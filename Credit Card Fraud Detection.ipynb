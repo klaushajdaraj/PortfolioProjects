{
 "cells": [
  {
   "cell_type": "markdown",
   "id": "0b084670",
   "metadata": {},
   "source": [
    "### 1. Environment set-up"
   ]
  },
  {
   "cell_type": "code",
   "execution_count": 2,
   "id": "3c4dcf76",
   "metadata": {},
   "outputs": [],
   "source": [
    "## Importing Libraries\n",
    "\n",
    "# Set seed\n",
    "import random\n",
    "random.seed(1234)\n",
    "\n",
    "# Manipulating and Vizualizing Data\n",
    "import pandas as pd\n",
    "import numpy as np\n",
    "from collections import Counter\n",
    "import matplotlib.pyplot as plt\n",
    "import seaborn as sns\n",
    "sns.set(rc={'figure.figsize':(12,8)})\n",
    "\n",
    "# Sampling Methods\n",
    "from imblearn.over_sampling import RandomOverSampler, SMOTE\n",
    "from imblearn.under_sampling import RandomUnderSampler, NearMiss\n",
    "\n",
    "# Train/Test Split\n",
    "from sklearn.model_selection import train_test_split\n",
    "\n",
    "# Cross Validation\n",
    "from sklearn.model_selection import cross_val_score, KFold\n",
    "\n",
    "# Dimensionality Reduction\n",
    "from sklearn.decomposition import PCA, TruncatedSVD\n",
    "#from sklearn.da import LDA\n",
    "from sklearn.discriminant_analysis import LinearDiscriminantAnalysis\n",
    "\n",
    "# Simple ML Models\n",
    "from sklearn.pipeline import Pipeline\n",
    "from sklearn.linear_model import LogisticRegression, SGDClassifier\n",
    "from sklearn.neighbors import KNeighborsClassifier\n",
    "from sklearn.tree import DecisionTreeClassifier\n",
    "from sklearn.svm import SVC\n",
    "\n",
    "# Ensemble Learning\n",
    "from sklearn.ensemble import RandomForestClassifier\n",
    "from sklearn.ensemble import GradientBoostingClassifier\n",
    "from sklearn.ensemble import StackingClassifier\n",
    "\n",
    "\n",
    "# Hyperparameter Tuning\n",
    "from sklearn.model_selection import GridSearchCV\n",
    "from sklearn.model_selection import RandomizedSearchCV\n",
    "\n",
    "# Performance metrics\n",
    "import sklearn.metrics as skm"
   ]
  },
  {
   "cell_type": "code",
   "execution_count": 3,
   "id": "8df909c5",
   "metadata": {},
   "outputs": [],
   "source": [
    "## Loading the dataset\n",
    "df = pd.read_csv(r\"C:\\Users\\hp\\Desktop\\creditcard.csv\")"
   ]
  },
  {
   "cell_type": "markdown",
   "id": "cb90c686",
   "metadata": {},
   "source": [
    "### 2. Initial Diagnostics "
   ]
  },
  {
   "cell_type": "code",
   "execution_count": 4,
   "id": "21d30a66",
   "metadata": {},
   "outputs": [
    {
     "name": "stdout",
     "output_type": "stream",
     "text": [
      "<class 'pandas.core.frame.DataFrame'>\n",
      "RangeIndex: 284807 entries, 0 to 284806\n",
      "Data columns (total 31 columns):\n",
      " #   Column  Non-Null Count   Dtype  \n",
      "---  ------  --------------   -----  \n",
      " 0   Time    284807 non-null  float64\n",
      " 1   V1      284807 non-null  float64\n",
      " 2   V2      284807 non-null  float64\n",
      " 3   V3      284807 non-null  float64\n",
      " 4   V4      284807 non-null  float64\n",
      " 5   V5      284807 non-null  float64\n",
      " 6   V6      284807 non-null  float64\n",
      " 7   V7      284807 non-null  float64\n",
      " 8   V8      284807 non-null  float64\n",
      " 9   V9      284807 non-null  float64\n",
      " 10  V10     284807 non-null  float64\n",
      " 11  V11     284807 non-null  float64\n",
      " 12  V12     284807 non-null  float64\n",
      " 13  V13     284807 non-null  float64\n",
      " 14  V14     284807 non-null  float64\n",
      " 15  V15     284807 non-null  float64\n",
      " 16  V16     284807 non-null  float64\n",
      " 17  V17     284807 non-null  float64\n",
      " 18  V18     284807 non-null  float64\n",
      " 19  V19     284807 non-null  float64\n",
      " 20  V20     284807 non-null  float64\n",
      " 21  V21     284807 non-null  float64\n",
      " 22  V22     284807 non-null  float64\n",
      " 23  V23     284807 non-null  float64\n",
      " 24  V24     284807 non-null  float64\n",
      " 25  V25     284807 non-null  float64\n",
      " 26  V26     284807 non-null  float64\n",
      " 27  V27     284807 non-null  float64\n",
      " 28  V28     284807 non-null  float64\n",
      " 29  Amount  284807 non-null  float64\n",
      " 30  Class   284807 non-null  int64  \n",
      "dtypes: float64(30), int64(1)\n",
      "memory usage: 67.4 MB\n"
     ]
    }
   ],
   "source": [
    "## Initial presentation of data\n",
    "df.info()"
   ]
  },
  {
   "cell_type": "code",
   "execution_count": 5,
   "id": "ffbd3e9c",
   "metadata": {},
   "outputs": [
    {
     "data": {
      "text/html": [
       "<div>\n",
       "<style scoped>\n",
       "    .dataframe tbody tr th:only-of-type {\n",
       "        vertical-align: middle;\n",
       "    }\n",
       "\n",
       "    .dataframe tbody tr th {\n",
       "        vertical-align: top;\n",
       "    }\n",
       "\n",
       "    .dataframe thead th {\n",
       "        text-align: right;\n",
       "    }\n",
       "</style>\n",
       "<table border=\"1\" class=\"dataframe\">\n",
       "  <thead>\n",
       "    <tr style=\"text-align: right;\">\n",
       "      <th></th>\n",
       "      <th>Time</th>\n",
       "      <th>V1</th>\n",
       "      <th>V2</th>\n",
       "      <th>V3</th>\n",
       "      <th>V4</th>\n",
       "      <th>V5</th>\n",
       "      <th>V6</th>\n",
       "      <th>V7</th>\n",
       "      <th>V8</th>\n",
       "      <th>V9</th>\n",
       "      <th>...</th>\n",
       "      <th>V21</th>\n",
       "      <th>V22</th>\n",
       "      <th>V23</th>\n",
       "      <th>V24</th>\n",
       "      <th>V25</th>\n",
       "      <th>V26</th>\n",
       "      <th>V27</th>\n",
       "      <th>V28</th>\n",
       "      <th>Amount</th>\n",
       "      <th>Class</th>\n",
       "    </tr>\n",
       "  </thead>\n",
       "  <tbody>\n",
       "    <tr>\n",
       "      <th>count</th>\n",
       "      <td>284807.000000</td>\n",
       "      <td>2.848070e+05</td>\n",
       "      <td>2.848070e+05</td>\n",
       "      <td>2.848070e+05</td>\n",
       "      <td>2.848070e+05</td>\n",
       "      <td>2.848070e+05</td>\n",
       "      <td>2.848070e+05</td>\n",
       "      <td>2.848070e+05</td>\n",
       "      <td>2.848070e+05</td>\n",
       "      <td>2.848070e+05</td>\n",
       "      <td>...</td>\n",
       "      <td>2.848070e+05</td>\n",
       "      <td>2.848070e+05</td>\n",
       "      <td>2.848070e+05</td>\n",
       "      <td>2.848070e+05</td>\n",
       "      <td>2.848070e+05</td>\n",
       "      <td>2.848070e+05</td>\n",
       "      <td>2.848070e+05</td>\n",
       "      <td>2.848070e+05</td>\n",
       "      <td>284807.000000</td>\n",
       "      <td>284807.000000</td>\n",
       "    </tr>\n",
       "    <tr>\n",
       "      <th>mean</th>\n",
       "      <td>94813.859575</td>\n",
       "      <td>3.918649e-15</td>\n",
       "      <td>5.682686e-16</td>\n",
       "      <td>-8.761736e-15</td>\n",
       "      <td>2.811118e-15</td>\n",
       "      <td>-1.552103e-15</td>\n",
       "      <td>2.040130e-15</td>\n",
       "      <td>-1.698953e-15</td>\n",
       "      <td>-1.893285e-16</td>\n",
       "      <td>-3.147640e-15</td>\n",
       "      <td>...</td>\n",
       "      <td>1.473120e-16</td>\n",
       "      <td>8.042109e-16</td>\n",
       "      <td>5.282512e-16</td>\n",
       "      <td>4.456271e-15</td>\n",
       "      <td>1.426896e-15</td>\n",
       "      <td>1.701640e-15</td>\n",
       "      <td>-3.662252e-16</td>\n",
       "      <td>-1.217809e-16</td>\n",
       "      <td>88.349619</td>\n",
       "      <td>0.001727</td>\n",
       "    </tr>\n",
       "    <tr>\n",
       "      <th>std</th>\n",
       "      <td>47488.145955</td>\n",
       "      <td>1.958696e+00</td>\n",
       "      <td>1.651309e+00</td>\n",
       "      <td>1.516255e+00</td>\n",
       "      <td>1.415869e+00</td>\n",
       "      <td>1.380247e+00</td>\n",
       "      <td>1.332271e+00</td>\n",
       "      <td>1.237094e+00</td>\n",
       "      <td>1.194353e+00</td>\n",
       "      <td>1.098632e+00</td>\n",
       "      <td>...</td>\n",
       "      <td>7.345240e-01</td>\n",
       "      <td>7.257016e-01</td>\n",
       "      <td>6.244603e-01</td>\n",
       "      <td>6.056471e-01</td>\n",
       "      <td>5.212781e-01</td>\n",
       "      <td>4.822270e-01</td>\n",
       "      <td>4.036325e-01</td>\n",
       "      <td>3.300833e-01</td>\n",
       "      <td>250.120109</td>\n",
       "      <td>0.041527</td>\n",
       "    </tr>\n",
       "    <tr>\n",
       "      <th>min</th>\n",
       "      <td>0.000000</td>\n",
       "      <td>-5.640751e+01</td>\n",
       "      <td>-7.271573e+01</td>\n",
       "      <td>-4.832559e+01</td>\n",
       "      <td>-5.683171e+00</td>\n",
       "      <td>-1.137433e+02</td>\n",
       "      <td>-2.616051e+01</td>\n",
       "      <td>-4.355724e+01</td>\n",
       "      <td>-7.321672e+01</td>\n",
       "      <td>-1.343407e+01</td>\n",
       "      <td>...</td>\n",
       "      <td>-3.483038e+01</td>\n",
       "      <td>-1.093314e+01</td>\n",
       "      <td>-4.480774e+01</td>\n",
       "      <td>-2.836627e+00</td>\n",
       "      <td>-1.029540e+01</td>\n",
       "      <td>-2.604551e+00</td>\n",
       "      <td>-2.256568e+01</td>\n",
       "      <td>-1.543008e+01</td>\n",
       "      <td>0.000000</td>\n",
       "      <td>0.000000</td>\n",
       "    </tr>\n",
       "    <tr>\n",
       "      <th>25%</th>\n",
       "      <td>54201.500000</td>\n",
       "      <td>-9.203734e-01</td>\n",
       "      <td>-5.985499e-01</td>\n",
       "      <td>-8.903648e-01</td>\n",
       "      <td>-8.486401e-01</td>\n",
       "      <td>-6.915971e-01</td>\n",
       "      <td>-7.682956e-01</td>\n",
       "      <td>-5.540759e-01</td>\n",
       "      <td>-2.086297e-01</td>\n",
       "      <td>-6.430976e-01</td>\n",
       "      <td>...</td>\n",
       "      <td>-2.283949e-01</td>\n",
       "      <td>-5.423504e-01</td>\n",
       "      <td>-1.618463e-01</td>\n",
       "      <td>-3.545861e-01</td>\n",
       "      <td>-3.171451e-01</td>\n",
       "      <td>-3.269839e-01</td>\n",
       "      <td>-7.083953e-02</td>\n",
       "      <td>-5.295979e-02</td>\n",
       "      <td>5.600000</td>\n",
       "      <td>0.000000</td>\n",
       "    </tr>\n",
       "    <tr>\n",
       "      <th>50%</th>\n",
       "      <td>84692.000000</td>\n",
       "      <td>1.810880e-02</td>\n",
       "      <td>6.548556e-02</td>\n",
       "      <td>1.798463e-01</td>\n",
       "      <td>-1.984653e-02</td>\n",
       "      <td>-5.433583e-02</td>\n",
       "      <td>-2.741871e-01</td>\n",
       "      <td>4.010308e-02</td>\n",
       "      <td>2.235804e-02</td>\n",
       "      <td>-5.142873e-02</td>\n",
       "      <td>...</td>\n",
       "      <td>-2.945017e-02</td>\n",
       "      <td>6.781943e-03</td>\n",
       "      <td>-1.119293e-02</td>\n",
       "      <td>4.097606e-02</td>\n",
       "      <td>1.659350e-02</td>\n",
       "      <td>-5.213911e-02</td>\n",
       "      <td>1.342146e-03</td>\n",
       "      <td>1.124383e-02</td>\n",
       "      <td>22.000000</td>\n",
       "      <td>0.000000</td>\n",
       "    </tr>\n",
       "    <tr>\n",
       "      <th>75%</th>\n",
       "      <td>139320.500000</td>\n",
       "      <td>1.315642e+00</td>\n",
       "      <td>8.037239e-01</td>\n",
       "      <td>1.027196e+00</td>\n",
       "      <td>7.433413e-01</td>\n",
       "      <td>6.119264e-01</td>\n",
       "      <td>3.985649e-01</td>\n",
       "      <td>5.704361e-01</td>\n",
       "      <td>3.273459e-01</td>\n",
       "      <td>5.971390e-01</td>\n",
       "      <td>...</td>\n",
       "      <td>1.863772e-01</td>\n",
       "      <td>5.285536e-01</td>\n",
       "      <td>1.476421e-01</td>\n",
       "      <td>4.395266e-01</td>\n",
       "      <td>3.507156e-01</td>\n",
       "      <td>2.409522e-01</td>\n",
       "      <td>9.104512e-02</td>\n",
       "      <td>7.827995e-02</td>\n",
       "      <td>77.165000</td>\n",
       "      <td>0.000000</td>\n",
       "    </tr>\n",
       "    <tr>\n",
       "      <th>max</th>\n",
       "      <td>172792.000000</td>\n",
       "      <td>2.454930e+00</td>\n",
       "      <td>2.205773e+01</td>\n",
       "      <td>9.382558e+00</td>\n",
       "      <td>1.687534e+01</td>\n",
       "      <td>3.480167e+01</td>\n",
       "      <td>7.330163e+01</td>\n",
       "      <td>1.205895e+02</td>\n",
       "      <td>2.000721e+01</td>\n",
       "      <td>1.559499e+01</td>\n",
       "      <td>...</td>\n",
       "      <td>2.720284e+01</td>\n",
       "      <td>1.050309e+01</td>\n",
       "      <td>2.252841e+01</td>\n",
       "      <td>4.584549e+00</td>\n",
       "      <td>7.519589e+00</td>\n",
       "      <td>3.517346e+00</td>\n",
       "      <td>3.161220e+01</td>\n",
       "      <td>3.384781e+01</td>\n",
       "      <td>25691.160000</td>\n",
       "      <td>1.000000</td>\n",
       "    </tr>\n",
       "  </tbody>\n",
       "</table>\n",
       "<p>8 rows × 31 columns</p>\n",
       "</div>"
      ],
      "text/plain": [
       "                Time            V1            V2            V3            V4  \\\n",
       "count  284807.000000  2.848070e+05  2.848070e+05  2.848070e+05  2.848070e+05   \n",
       "mean    94813.859575  3.918649e-15  5.682686e-16 -8.761736e-15  2.811118e-15   \n",
       "std     47488.145955  1.958696e+00  1.651309e+00  1.516255e+00  1.415869e+00   \n",
       "min         0.000000 -5.640751e+01 -7.271573e+01 -4.832559e+01 -5.683171e+00   \n",
       "25%     54201.500000 -9.203734e-01 -5.985499e-01 -8.903648e-01 -8.486401e-01   \n",
       "50%     84692.000000  1.810880e-02  6.548556e-02  1.798463e-01 -1.984653e-02   \n",
       "75%    139320.500000  1.315642e+00  8.037239e-01  1.027196e+00  7.433413e-01   \n",
       "max    172792.000000  2.454930e+00  2.205773e+01  9.382558e+00  1.687534e+01   \n",
       "\n",
       "                 V5            V6            V7            V8            V9  \\\n",
       "count  2.848070e+05  2.848070e+05  2.848070e+05  2.848070e+05  2.848070e+05   \n",
       "mean  -1.552103e-15  2.040130e-15 -1.698953e-15 -1.893285e-16 -3.147640e-15   \n",
       "std    1.380247e+00  1.332271e+00  1.237094e+00  1.194353e+00  1.098632e+00   \n",
       "min   -1.137433e+02 -2.616051e+01 -4.355724e+01 -7.321672e+01 -1.343407e+01   \n",
       "25%   -6.915971e-01 -7.682956e-01 -5.540759e-01 -2.086297e-01 -6.430976e-01   \n",
       "50%   -5.433583e-02 -2.741871e-01  4.010308e-02  2.235804e-02 -5.142873e-02   \n",
       "75%    6.119264e-01  3.985649e-01  5.704361e-01  3.273459e-01  5.971390e-01   \n",
       "max    3.480167e+01  7.330163e+01  1.205895e+02  2.000721e+01  1.559499e+01   \n",
       "\n",
       "       ...           V21           V22           V23           V24  \\\n",
       "count  ...  2.848070e+05  2.848070e+05  2.848070e+05  2.848070e+05   \n",
       "mean   ...  1.473120e-16  8.042109e-16  5.282512e-16  4.456271e-15   \n",
       "std    ...  7.345240e-01  7.257016e-01  6.244603e-01  6.056471e-01   \n",
       "min    ... -3.483038e+01 -1.093314e+01 -4.480774e+01 -2.836627e+00   \n",
       "25%    ... -2.283949e-01 -5.423504e-01 -1.618463e-01 -3.545861e-01   \n",
       "50%    ... -2.945017e-02  6.781943e-03 -1.119293e-02  4.097606e-02   \n",
       "75%    ...  1.863772e-01  5.285536e-01  1.476421e-01  4.395266e-01   \n",
       "max    ...  2.720284e+01  1.050309e+01  2.252841e+01  4.584549e+00   \n",
       "\n",
       "                V25           V26           V27           V28         Amount  \\\n",
       "count  2.848070e+05  2.848070e+05  2.848070e+05  2.848070e+05  284807.000000   \n",
       "mean   1.426896e-15  1.701640e-15 -3.662252e-16 -1.217809e-16      88.349619   \n",
       "std    5.212781e-01  4.822270e-01  4.036325e-01  3.300833e-01     250.120109   \n",
       "min   -1.029540e+01 -2.604551e+00 -2.256568e+01 -1.543008e+01       0.000000   \n",
       "25%   -3.171451e-01 -3.269839e-01 -7.083953e-02 -5.295979e-02       5.600000   \n",
       "50%    1.659350e-02 -5.213911e-02  1.342146e-03  1.124383e-02      22.000000   \n",
       "75%    3.507156e-01  2.409522e-01  9.104512e-02  7.827995e-02      77.165000   \n",
       "max    7.519589e+00  3.517346e+00  3.161220e+01  3.384781e+01   25691.160000   \n",
       "\n",
       "               Class  \n",
       "count  284807.000000  \n",
       "mean        0.001727  \n",
       "std         0.041527  \n",
       "min         0.000000  \n",
       "25%         0.000000  \n",
       "50%         0.000000  \n",
       "75%         0.000000  \n",
       "max         1.000000  \n",
       "\n",
       "[8 rows x 31 columns]"
      ]
     },
     "execution_count": 5,
     "metadata": {},
     "output_type": "execute_result"
    }
   ],
   "source": [
    "# Descriptive Statistics\n",
    "df.describe()"
   ]
  },
  {
   "cell_type": "markdown",
   "id": "2e83baec",
   "metadata": {},
   "source": [
    "**Takeaway**: The following percentage confirms that we have a considerable class imbalance with the target varibale. It stays consistent that most fraudlent activities are much less frequent than non-fraudlent. Before proceeding, we shall note it to avoid any overfitting issues when fitting the machine learning models."
   ]
  },
  {
   "cell_type": "code",
   "execution_count": 6,
   "id": "b4c16987",
   "metadata": {},
   "outputs": [
    {
     "data": {
      "text/plain": [
       "0    0.998273\n",
       "1    0.001727\n",
       "Name: Class, dtype: float64"
      ]
     },
     "execution_count": 6,
     "metadata": {},
     "output_type": "execute_result"
    }
   ],
   "source": [
    "# Target Variable Analysis\n",
    "df['Class'].value_counts(normalize=True)"
   ]
  },
  {
   "cell_type": "markdown",
   "id": "9f9a0f9d",
   "metadata": {},
   "source": [
    "**Takeaway**: We did not have any information on the numerical predictors for privacy. given their transformation and standardization, excluding Amount and Time. In that regard, Amount presented itself as potentially most informative for the feature variable analysis. To better understand the variable's distribution, we had to transform it using a log scale."
   ]
  },
  {
   "cell_type": "code",
   "execution_count": 7,
   "id": "f2cf6a2c",
   "metadata": {},
   "outputs": [
    {
     "name": "stdout",
     "output_type": "stream",
     "text": [
      "count    284807.000000\n",
      "mean         88.349619\n",
      "std         250.120109\n",
      "min           0.000000\n",
      "25%           5.600000\n",
      "50%          22.000000\n",
      "75%          77.165000\n",
      "max       25691.160000\n",
      "Name: Amount, dtype: float64\n"
     ]
    },
    {
     "data": {
      "image/png": "[encoded data removed]",
      "text/plain": [
       "<Figure size 864x576 with 1 Axes>"
      ]
     },
     "metadata": {},
     "output_type": "display_data"
    }
   ],
   "source": [
    "## Feature Variable Analysis\n",
    "\n",
    "# Basic statistics\n",
    "print(df['Amount'].describe())\n",
    "\n",
    "# Distribution\n",
    "sns.histplot(data=df, x='Amount').set(xscale=\"log\")\n",
    "plt.xlabel(\"Dollar Amount (Log Scale)\")\n",
    "plt.ylabel(\"Frequency (Count)\")\n",
    "plt.title(\"Distribution of Transaction Amount (log scaled)\")\n",
    "plt.show()"
   ]
  },
  {
   "cell_type": "markdown",
   "id": "3aa23ce2",
   "metadata": {},
   "source": [
    "### 3. Data Cleaning"
   ]
  },
  {
   "cell_type": "code",
   "execution_count": 8,
   "id": "afc4ade7",
   "metadata": {},
   "outputs": [
    {
     "name": "stdout",
     "output_type": "stream",
     "text": [
      "There are  0 null/na values in the dataset\n"
     ]
    },
    {
     "data": {
      "image/png": "[encoded data removed]",
      "text/plain": [
       "<Figure size 720x432 with 2 Axes>"
      ]
     },
     "metadata": {},
     "output_type": "display_data"
    }
   ],
   "source": [
    "# Missing Values\n",
    "print(\"There are %2d null/na values in the dataset\" %df.isna().sum().sum())\n",
    "\n",
    "plt.figure(figsize=(10,6))\n",
    "sns.heatmap(df.isna().transpose(),\n",
    "           cmap=\"YlGnBu\",\n",
    "           cbar_kws={'label': 'Missing Data'})\n",
    "plt.xlabel(\"Features\")\n",
    "plt.ylabel(\"Observations\")\n",
    "plt.show()"
   ]
  },
  {
   "cell_type": "markdown",
   "id": "e3fdbe78",
   "metadata": {},
   "source": [
    "**Takeaway**: As the plot shows above, we have no missing values given the pre-processing done prior."
   ]
  },
  {
   "cell_type": "markdown",
   "id": "ad122e29",
   "metadata": {},
   "source": [
    "**Note**: With most predictors transformed, there will be a little chance for any outliers in the data points V1, V2,..., V28. So, we will only examine Amount as the only meaningful numeric feature."
   ]
  },
  {
   "cell_type": "code",
   "execution_count": 9,
   "id": "e0186df2",
   "metadata": {},
   "outputs": [
    {
     "data": {
      "image/png": "[encoded data removed]",
      "text/plain": [
       "<Figure size 864x576 with 1 Axes>"
      ]
     },
     "metadata": {},
     "output_type": "display_data"
    }
   ],
   "source": [
    "## Outliers\n",
    "sns.boxplot(data=df, x='Amount')\n",
    "plt.show()"
   ]
  },
  {
   "cell_type": "markdown",
   "id": "2c94656e",
   "metadata": {},
   "source": [
    "**Note**: From the boxplot above, we can observe a non-negligible number of outliers on the upper end of the distribution. It would denote transactions with high amounts in the order of thousands of dollars. We would assess the effect of this skewed distribution when building the predective models in terms of feature transformation or selecting models robust to such feature types."
   ]
  },
  {
   "cell_type": "code",
   "execution_count": 10,
   "id": "ea74c29d",
   "metadata": {},
   "outputs": [
    {
     "data": {
      "text/plain": [
       "False    283726\n",
       "True       1081\n",
       "dtype: int64"
      ]
     },
     "execution_count": 10,
     "metadata": {},
     "output_type": "execute_result"
    }
   ],
   "source": [
    "## Duplicate Observations\n",
    "\n",
    "# No. of duplicate rows\n",
    "df.duplicated().value_counts()"
   ]
  },
  {
   "cell_type": "markdown",
   "id": "27009211",
   "metadata": {},
   "source": [
    "**Takeaway**: A quick check reveals 1081 duplicate rows, so we proceed in removing them from the dataset."
   ]
  },
  {
   "cell_type": "code",
   "execution_count": 11,
   "id": "caa5a102",
   "metadata": {},
   "outputs": [],
   "source": [
    "df.drop_duplicates(keep='last', inplace=True)"
   ]
  },
  {
   "cell_type": "markdown",
   "id": "0f5bcede",
   "metadata": {},
   "source": [
    "**Definition**: Feature Engineering"
   ]
  },
  {
   "cell_type": "code",
   "execution_count": 12,
   "id": "f7f885fe",
   "metadata": {},
   "outputs": [],
   "source": [
    "# Feature Engineering\n",
    "from sklearn.preprocessing import StandardScaler\n",
    "scaler = StandardScaler()\n",
    "df['Amount'] = scaler.fit_transform(df['Amount'].values.reshape(-1, 1))"
   ]
  },
  {
   "cell_type": "markdown",
   "id": "59390cb1",
   "metadata": {},
   "source": [
    "### 4. Correlation Analysis"
   ]
  },
  {
   "cell_type": "code",
   "execution_count": 13,
   "id": "59831f91",
   "metadata": {},
   "outputs": [
    {
     "data": {
      "image/png": "[encoded data removed]",
      "text/plain": [
       "<Figure size 1368x1080 with 2 Axes>"
      ]
     },
     "metadata": {},
     "output_type": "display_data"
    }
   ],
   "source": [
    "# Correlation Matrix\n",
    "f = plt.figure(figsize=(19, 15))\n",
    "matrix = df.corr().round(2)\n",
    "mask = np.triu(np.ones_like(matrix, dtype=bool))\n",
    "sns.heatmap(matrix, annot=True, vmax=1, vmin=-1, center=0, cmap='vlag', mask=mask)\n",
    "plt.show()"
   ]
  },
  {
   "cell_type": "markdown",
   "id": "eb20c755",
   "metadata": {},
   "source": [
    "**Takeaway**: From the correlation matrix plotted, we can observe very few correlated variables as we would expect after the feature transformation. The two meaningful features, are Time and Amount, have some relative correlation with some variables with coefficients approximating 0.4. With such low values, it would be pretty challenging to imply a correlation between any of them with any certainty. It also indicates that there would be a very low incidence of any colinearity within our data."
   ]
  },
  {
   "cell_type": "markdown",
   "id": "ab063227",
   "metadata": {},
   "source": [
    "**Note**: The code below filters those pairs with correlation coefficients above 0.5 as a threshold. As noted above, those values give very little to no confidence in any correlated relationship  between variables as few crossing the 0.5 mark."
   ]
  },
  {
   "cell_type": "code",
   "execution_count": 14,
   "id": "2c235fbb",
   "metadata": {},
   "outputs": [
    {
     "name": "stdout",
     "output_type": "stream",
     "text": [
      "Time    Time      1.000000\n",
      "V1      V1        1.000000\n",
      "V2      V2        1.000000\n",
      "        Amount   -0.533428\n",
      "V3      V3        1.000000\n",
      "V4      V4        1.000000\n",
      "V5      V5        1.000000\n",
      "V6      V6        1.000000\n",
      "V7      V7        1.000000\n",
      "V8      V8        1.000000\n",
      "V9      V9        1.000000\n",
      "V10     V10       1.000000\n",
      "V11     V11       1.000000\n",
      "V12     V12       1.000000\n",
      "V13     V13       1.000000\n",
      "V14     V14       1.000000\n",
      "V15     V15       1.000000\n",
      "V16     V16       1.000000\n",
      "V17     V17       1.000000\n",
      "V18     V18       1.000000\n",
      "V19     V19       1.000000\n",
      "V20     V20       1.000000\n",
      "V21     V21       1.000000\n",
      "V22     V22       1.000000\n",
      "V23     V23       1.000000\n",
      "V24     V24       1.000000\n",
      "V25     V25       1.000000\n",
      "V26     V26       1.000000\n",
      "V27     V27       1.000000\n",
      "V28     V28       1.000000\n",
      "Amount  V2       -0.533428\n",
      "        Amount    1.000000\n",
      "Class   Class     1.000000\n",
      "dtype: float64\n"
     ]
    }
   ],
   "source": [
    "# Filtering those with some significant correlation coefficients\n",
    "matrix = df.corr()\n",
    "matrix = matrix.unstack()\n",
    "matrix = matrix[abs(matrix) >= 0.5]\n",
    "\n",
    "print(matrix)"
   ]
  },
  {
   "cell_type": "markdown",
   "id": "fe80945e",
   "metadata": {},
   "source": [
    "### 5. Inquiry Exploration\n",
    "\n",
    "**Note**: In an attempt to answer the first question, we first split our dataset by class types; in other words, fraudlent and non-fraudlent transactions. We then plot the histogram side by side to observe any unusual behavior. In doing so, the non-fraud transactions were havily right-skewed, making it quite challenging to compare the plots. To solve this issue, we used a logarithmic transformation, making it easier to see and thus, evaluate any similarities and differences."
   ]
  },
  {
   "cell_type": "code",
   "execution_count": 15,
   "id": "53822b78",
   "metadata": {},
   "outputs": [
    {
     "data": {
      "image/png": "[encoded data removed]",
      "text/plain": [
       "<Figure size 864x576 with 2 Axes>"
      ]
     },
     "metadata": {},
     "output_type": "display_data"
    }
   ],
   "source": [
    "# How does Amount's distribution behaves across classes?\n",
    "\n",
    "# Splitting data by fraud class\n",
    "df_no_fraud = df[df['Class'] == 0]\n",
    "df_fraud = df[df['Class'] == 1]\n",
    "\n",
    "# Histogram for Amount Distribution per class\n",
    "fig, (ax1, ax2) = plt.subplots(1, 2, figsize=(12, 8))\n",
    "fig.suptitle('Distribution of Transaction Amount across Class')\n",
    "sns.histplot(ax=ax1, data=df_no_fraud, x='Amount', stat='probability').set(xscale='log')\n",
    "sns.histplot(ax=ax2, data=df_fraud, x='Amount', stat='probability').set(xscale='log')\n",
    "plt.show()"
   ]
  },
  {
   "cell_type": "markdown",
   "id": "e515514f",
   "metadata": {},
   "source": [
    "**Takeaway**: Before making a note on plots, we will first explain how to interpret logarithmic scales. In short, log scales show relative values rather than absolute ones. Indeed, 2 minus 1 would be displayed similarly to 9999 minus 9998, given that we are dealing with percentages here. In context, the histograms above would depict the order of growth of transaction value. Both distributions represent a similar trajectory, with most transactions on the lower end of the graph. It stays consistent with the mean value found at USD 88, even with max values averaging USD 20,000."
   ]
  },
  {
   "cell_type": "markdown",
   "id": "7c73e160",
   "metadata": {},
   "source": [
    "**Note**: For the second question, we will check the timing of transactions to detect anything unusual. We will use only the fraud dataset and plot a scatterplot accordingly."
   ]
  },
  {
   "cell_type": "code",
   "execution_count": 16,
   "id": "7d101c16",
   "metadata": {},
   "outputs": [
    {
     "data": {
      "image/png": "[encoded data removed]",
      "text/plain": [
       "<Figure size 864x576 with 1 Axes>"
      ]
     },
     "metadata": {},
     "output_type": "display_data"
    }
   ],
   "source": [
    "## Are there any noteworthy point in time where fraud occured?\n",
    "# Scatterplot\n",
    "sns.scatterplot(data=df_fraud, x='Time', y='Amount')\n",
    "plt.show()"
   ]
  },
  {
   "cell_type": "markdown",
   "id": "2c4d70f6",
   "metadata": {},
   "source": [
    "**Takeaway**: The graph above does not appear that there is a clustering pattern on a time interval. So, we would assume that fraud occurred across time quite randomly."
   ]
  },
  {
   "cell_type": "markdown",
   "id": "bbbfae04",
   "metadata": {},
   "source": [
    "### 6. Class Imbalance\n",
    "\n",
    "**Note**: Our diagnostics observed a significant imbalance between classes of transactions, with fraud only making up 0.2% of all transaction statuses. Given the limited pool of examples to train, it poses an issue in terms of building an effective machine learning model to predict if there is a fraud. With the minority class being so small, we would expect poor performance on the critical task of detecting fraud transactions. In that vein, we wil use different sampling methods (Undersampling and Oversampling) to tackle this problem."
   ]
  },
  {
   "cell_type": "code",
   "execution_count": 17,
   "id": "a14a22a1",
   "metadata": {},
   "outputs": [],
   "source": [
    "# Splitting features and target variable\n",
    "X = df.drop(['Class'], axis=1)\n",
    "y = df['Class']"
   ]
  },
  {
   "cell_type": "markdown",
   "id": "44c358be",
   "metadata": {},
   "source": [
    "**Definition**: SMOTE (Synthetic Minority Oversampling Technique) is an oversamplig approach to the minority class. In contex, it would mean to randomly increase fraud examples by \"artificially\" replicating to have a more balanced class distribution. Further information [here](https://machinelearningmastery.com/smote-oversampling-for-imbalanced-classification/)."
   ]
  },
  {
   "cell_type": "code",
   "execution_count": 18,
   "id": "383a2fa7",
   "metadata": {},
   "outputs": [
    {
     "name": "stdout",
     "output_type": "stream",
     "text": [
      "Shape of X before SMOTE: (283726, 30)\n",
      "Shape of X after SMOTE: (566506, 30)\n",
      "\n",
      "Balance of positive and negative classes (%):\n"
     ]
    },
    {
     "data": {
      "text/plain": [
       "0    50.0\n",
       "1    50.0\n",
       "Name: Class, dtype: float64"
      ]
     },
     "execution_count": 18,
     "metadata": {},
     "output_type": "execute_result"
    }
   ],
   "source": [
    "## SMOTE\n",
    "oversample = SMOTE()\n",
    "X_sm, y_sm = oversample.fit_resample(X, y)\n",
    "\n",
    "print(f'''Shape of X before SMOTE: {X.shape}\n",
    "Shape of X after SMOTE: {X_sm.shape}''')\n",
    "\n",
    "print('\\nBalance of positive and negative classes (%):')\n",
    "y_sm.value_counts(normalize=True) * 100"
   ]
  },
  {
   "cell_type": "markdown",
   "id": "acfc5adc",
   "metadata": {},
   "source": [
    "**Definition**: Near-Miss Algorithm is an undersampling approach on the majority class. In context, we select examples to keep out of the training set based on the distance of majority class examples to minority class examples. Further information [here](https://machinelearningmastery.com/undersampling-algorithms-for-imbalanced-classification/)."
   ]
  },
  {
   "cell_type": "code",
   "execution_count": 19,
   "id": "c126586c",
   "metadata": {},
   "outputs": [
    {
     "name": "stdout",
     "output_type": "stream",
     "text": [
      "Shape of X before Near Miss Algorithm: (283726, 30)\n",
      "Shape of X after Near Miss Algorithm: (946, 30)\n",
      "\n",
      "Balance of positive and negative classes (%):\n"
     ]
    },
    {
     "data": {
      "text/plain": [
       "0    50.0\n",
       "1    50.0\n",
       "Name: Class, dtype: float64"
      ]
     },
     "execution_count": 19,
     "metadata": {},
     "output_type": "execute_result"
    }
   ],
   "source": [
    "## Near Miss Algorithm\n",
    "nr = NearMiss()\n",
    "\n",
    "X_nmiss, y_nmiss = nr.fit_resample(X, y)\n",
    "\n",
    "print(f'''Shape of X before Near Miss Algorithm: {X.shape}\n",
    "Shape of X after Near Miss Algorithm: {X_nmiss.shape}''')\n",
    "\n",
    "print('\\nBalance of positive and negative classes (%):')\n",
    "y_nmiss.value_counts(normalize=True) * 100"
   ]
  },
  {
   "cell_type": "markdown",
   "id": "b33be4a2",
   "metadata": {},
   "source": [
    "**Note**: With the risk of overfitting with oversampling and the possibility to lose valuable information from undersampling, we will also consider combining both to rebalance the distribution. So, we shall proceed with the combination taking out the risks we identified."
   ]
  },
  {
   "cell_type": "code",
   "execution_count": 20,
   "id": "5251bc07",
   "metadata": {},
   "outputs": [
    {
     "name": "stdout",
     "output_type": "stream",
     "text": [
      "Shape of X before Combined Random Sampler: (283726, 30)\n",
      "Shape of X after Combined Random Sampler: (318658, 30)\n",
      "\n",
      "Balance of positive and negative classes (%):\n"
     ]
    },
    {
     "data": {
      "text/plain": [
       "0    55.555486\n",
       "1    44.444514\n",
       "Name: Class, dtype: float64"
      ]
     },
     "execution_count": 20,
     "metadata": {},
     "output_type": "execute_result"
    }
   ],
   "source": [
    "## Combined Random Smapler\n",
    "over = RandomOverSampler(sampling_strategy=0.5)\n",
    "under = RandomUnderSampler(sampling_strategy=0.8)\n",
    "\n",
    "# Oversampling minority class\n",
    "X_over, y_over = over.fit_resample(X, y)\n",
    "\n",
    "# Combine with under sampling\n",
    "X_combined_sampling, y_combined_sampling = under.fit_resample(X_over, y_over)\n",
    "print(f'''Shape of X before Combined Random Sampler: {X.shape}\n",
    "Shape of X after Combined Random Sampler: {X_combined_sampling.shape}''')\n",
    "\n",
    "print('\\nBalance of positive and negative classes (%):')\n",
    "y_combined_sampling.value_counts(normalize=True) * 100"
   ]
  },
  {
   "cell_type": "code",
   "execution_count": 21,
   "id": "1d65807d",
   "metadata": {},
   "outputs": [],
   "source": [
    "# Defined the final features and target\n",
    "X_final, y_final = X_combined_sampling, y_combined_sampling"
   ]
  },
  {
   "cell_type": "markdown",
   "id": "0f9d1fa3",
   "metadata": {},
   "source": [
    "### 7. Machine Learning set-up"
   ]
  },
  {
   "cell_type": "markdown",
   "id": "a7f4cc8f",
   "metadata": {},
   "source": [
    "Under this section, we will explain the procedure of two main splitting approach to estimate our models' performance.\n",
    "\n",
    "**Definition**: Often denoted as the most popular by its simplicity, the train-test split is a sampling technique dividing the dataset between training and testing sets. In doing so, the goal would be to have enough in our training set used for the machine learning to predict the observations in the testing set as accurately as possible. Most would opt for a 70/30 split, respectively, other 80/20, 60/40, or whichever works best for the specific scenario."
   ]
  },
  {
   "cell_type": "code",
   "execution_count": 22,
   "id": "b5e8a67e",
   "metadata": {},
   "outputs": [
    {
     "data": {
      "text/plain": [
       "0.9093870372978503"
      ]
     },
     "execution_count": 22,
     "metadata": {},
     "output_type": "execute_result"
    }
   ],
   "source": [
    "## Training Testing Split\n",
    "X_train, X_test, y_train, y_test = train_test_split(X_final, y_final,\n",
    "                                                    test_size=0.3,\n",
    "                                                    random_state=42)\n",
    "\n",
    "clf = LogisticRegression(max_iter=1000, solver='liblinear')\n",
    "clf.fit(X_train, y_train)\n",
    "y_pred = clf.predict(X_test)\n",
    "skm.average_precision_score(y_test, y_pred)"
   ]
  },
  {
   "cell_type": "markdown",
   "id": "4662abc9",
   "metadata": {},
   "source": [
    "**Definition**: As the name would suggest, we will engage here in the process of validation to ensure reliability on our model. Cross-Validation is a statistical method applied in various mays to estimate the model's performance. Some examples are Houldout Method, K-Fold, Stratified K-Fold, Leave-P-Out. Further information [here](https://towardsdatascience.com/cross-validation-in-machine-learning-72924a69872f)"
   ]
  },
  {
   "cell_type": "markdown",
   "id": "b86818ca",
   "metadata": {},
   "source": [
    "**Note**:As we already tackled the issue of class imbalance with a combination of under- and over- fitting, we will use the K-Fold Cross-Validation."
   ]
  },
  {
   "cell_type": "code",
   "execution_count": 23,
   "id": "613bc6fa",
   "metadata": {},
   "outputs": [
    {
     "name": "stdout",
     "output_type": "stream",
     "text": [
      "Average Precision Score: 0.960 (0.0055)\n"
     ]
    }
   ],
   "source": [
    "## Cross-Validation\n",
    "scores = cross_val_score(LogisticRegression(max_iter=1000, solver='liblinear'), X_train, y_train,\n",
    "                        cv=3, scoring='average_precision')\n",
    "\n",
    "print('Average Precision Score: %.3f (%.4f)' % (np.mean(scores), \n",
    "                                                np.std(scores)))"
   ]
  },
  {
   "cell_type": "markdown",
   "id": "736ba51e",
   "metadata": {},
   "source": [
    "**Takeaway**:\n",
    "As we advance, we would opt for the cross-validation testing procedure in model performance evaluation."
   ]
  },
  {
   "cell_type": "markdown",
   "id": "d6a41576",
   "metadata": {},
   "source": [
    "### 8. Dimensionality Reduction\n",
    "\n",
    "This section will use dimensionality reduction to trim down the number of features we have. Dimensionality reduction encapsulates the techniques reducing the input variables in our training data. In doing so, we hope to have a more straightforward but effective machine learning model structure and avoid any potential case of overfitting. We will be testing three different methods from Linear Algebra: PCA, SVD, and LDA and pick the one capturing the most variability in the datasets after reducing it to principal components."
   ]
  },
  {
   "cell_type": "markdown",
   "id": "36210e6f",
   "metadata": {},
   "source": [
    "**Definition**: PCA (Principal Component Analysis) takes data with m-columns projected to a subspace with n-features (n < m) while preserving the crucial information from the original data; in other words, PCA attempts to find the **principal components (or features)** as its names denotes."
   ]
  },
  {
   "cell_type": "code",
   "execution_count": 24,
   "id": "921560c2",
   "metadata": {},
   "outputs": [
    {
     "data": {
      "text/plain": [
       "0.9999999651142302"
      ]
     },
     "execution_count": 24,
     "metadata": {},
     "output_type": "execute_result"
    }
   ],
   "source": [
    "## Principal Component Analysis\n",
    "pca = PCA(n_components = 2)\n",
    "pca.fit_transform(X_final)\n",
    "np.sum(pca.explained_variance_ratio_)"
   ]
  },
  {
   "cell_type": "markdown",
   "id": "0f215389",
   "metadata": {},
   "source": [
    "**Definition**: SVD (Singular Value Decomposition) is a process breaking down a matrix into its constituents elements by factorizing it into three separate matrices: **M=UΣVᵗ**.\n",
    "- M: original matrix\n",
    "- U: left singular matrix (columns are left singular vectors) containing eigenvectors of matrix MMᵗ\n",
    "- Σ: a diagonal matrix containing singular (eigen)values\n",
    "- V: right singuar matrix (columns are right singular vectors) cotaining eigenvectors of matrix MᵗM\n",
    "\n",
    "Further information [here](https://machinelearningmastery.com/singular-value-decomposition-for-machine-learning/)."
   ]
  },
  {
   "cell_type": "code",
   "execution_count": 25,
   "id": "fcb42580",
   "metadata": {},
   "outputs": [
    {
     "data": {
      "text/plain": [
       "0.999999964740791"
      ]
     },
     "execution_count": 25,
     "metadata": {},
     "output_type": "execute_result"
    }
   ],
   "source": [
    "## Singular Value Decomposition\n",
    "svd = TruncatedSVD(n_components=2)\n",
    "svd.fit_transform(X_final)\n",
    "np.sum(svd.explained_variance_ratio_)"
   ]
  },
  {
   "cell_type": "markdown",
   "id": "26bd418a",
   "metadata": {},
   "source": [
    "**Definition**: LDA (Linear Discriminant Analysis) seeks to separate class type samples within the training set by finding a linear combination of input variables. The LDA algorithms take roots in matrix factorization, a core concept in Linear Algebra. Further information [here](https://machinelearningmastery.com/linear-discriminant-analysis-for-dimensionality-reduction-in-python/) ."
   ]
  },
  {
   "cell_type": "code",
   "execution_count": 27,
   "id": "b914971c",
   "metadata": {},
   "outputs": [
    {
     "data": {
      "text/plain": [
       "1.0"
      ]
     },
     "execution_count": 27,
     "metadata": {},
     "output_type": "execute_result"
    }
   ],
   "source": [
    "## Linear Discriminant Analysis\n",
    "lda = LinearDiscriminantAnalysis()\n",
    "lda.fit_transform(X_final, y_final)\n",
    "np.sum(lda.explained_variance_ratio_)"
   ]
  },
  {
   "cell_type": "markdown",
   "id": "2c9f4946",
   "metadata": {},
   "source": [
    "**Takeaway**: We will proceed by using LDA as it captures the entire variation (100%) in the dataset."
   ]
  },
  {
   "cell_type": "code",
   "execution_count": 30,
   "id": "7a70f1b9",
   "metadata": {},
   "outputs": [],
   "source": [
    "X_lda = lda.fit_transform(X_final, y_final)\n",
    "\n",
    "## Train Test Split\n",
    "X_train, X_test, y_train, y_test = train_test_split(X_lda, y_final,\n",
    "                                                    test_size=0.3,\n",
    "                                                    random_state=42)"
   ]
  },
  {
   "cell_type": "markdown",
   "id": "6a09e7aa",
   "metadata": {},
   "source": [
    "### 9. Machine Learning - Simple Models"
   ]
  },
  {
   "cell_type": "markdown",
   "id": "b0be8e8a",
   "metadata": {},
   "source": [
    "This section will leverage the powerful sci-kit-learn package to build multiple models with little to no parameter tuning for comparision. We will only use the cross-validation error on our training set to avoid any data leakage."
   ]
  },
  {
   "cell_type": "code",
   "execution_count": 31,
   "id": "a9387611",
   "metadata": {},
   "outputs": [],
   "source": [
    "# Dictionary to store model structures\n",
    "models = dict()"
   ]
  },
  {
   "cell_type": "markdown",
   "id": "911ec607",
   "metadata": {},
   "source": [
    "**Definition**: Logistic Regression is a predective classifier that models an S-shaped curve (Sigmoid function) on the data to label the examples. Further information [here](https://machinelearningmastery.com/logistic-regression-for-machine-learning/)."
   ]
  },
  {
   "cell_type": "code",
   "execution_count": 32,
   "id": "ebd621d9",
   "metadata": {},
   "outputs": [],
   "source": [
    "## Logistic Regression\n",
    "logreg = LogisticRegression()\n",
    "models.update({'Logistic Regression':logreg})"
   ]
  },
  {
   "cell_type": "markdown",
   "id": "93eaf248",
   "metadata": {},
   "source": [
    "**Definition**: k-Nearest Neighbors in a machine learning model build on Euclidean distance that categorizes the observations. Further information [here](https://towardsdatascience.com/machine-learning-basics-with-the-k-nearest-neighbors-algorithm-6a6e71d01761)."
   ]
  },
  {
   "cell_type": "code",
   "execution_count": 33,
   "id": "bcc1f6df",
   "metadata": {},
   "outputs": [],
   "source": [
    "## k-Nearest Neighbors\n",
    "knn = KNeighborsClassifier(n_neighbors=2)\n",
    "models.update({'k-Nearest Neighbors': knn})"
   ]
  },
  {
   "cell_type": "markdown",
   "id": "d5bccfb5",
   "metadata": {},
   "source": [
    "**Definition**:Stochastic Gradient Descent is an iterative algorithm that minimizes the model's error rate. Further information [here](https://towardsdatascience.com/stochastic-gradient-descent-clearly-explained-53d239905d31)."
   ]
  },
  {
   "cell_type": "code",
   "execution_count": 34,
   "id": "6cf61938",
   "metadata": {},
   "outputs": [],
   "source": [
    "sgd = SGDClassifier()\n",
    "models.update({'Stochastic Gradient Descent': sgd})"
   ]
  },
  {
   "cell_type": "markdown",
   "id": "42183676",
   "metadata": {},
   "source": [
    "**Definition**: A Decision Tree is a supervised machine learning algorithm building an actual tree based on splits within the data. Further information [here](https://towardsdatascience.com/decision-tree-in-machine-learning-e380942a4c96)."
   ]
  },
  {
   "cell_type": "code",
   "execution_count": 35,
   "id": "885b7df4",
   "metadata": {},
   "outputs": [],
   "source": [
    "## Decision Tree\n",
    "tree = DecisionTreeClassifier()\n",
    "models.update({'Decision Tree': tree})"
   ]
  },
  {
   "cell_type": "code",
   "execution_count": 36,
   "id": "9e20a8f2",
   "metadata": {},
   "outputs": [
    {
     "data": {
      "text/plain": [
       "{'Logistic Regression': LogisticRegression(),\n",
       " 'k-Nearest Neighbors': KNeighborsClassifier(n_neighbors=2),\n",
       " 'Stochastic Gradient Descent': SGDClassifier(),\n",
       " 'Decision Tree': DecisionTreeClassifier()}"
      ]
     },
     "execution_count": 36,
     "metadata": {},
     "output_type": "execute_result"
    }
   ],
   "source": [
    "# Checking the dictionary of models\n",
    "models"
   ]
  },
  {
   "cell_type": "code",
   "execution_count": 38,
   "id": "960f9e7c",
   "metadata": {},
   "outputs": [
    {
     "name": "stdout",
     "output_type": "stream",
     "text": [
      "Logistic Regression - Average Precision Score: 0.97437 (0.00039)\n",
      "k-Nearest Neighbors - Average Precision Score: 0.99608 (0.00039)\n",
      "Stochastic Gradient Descent - Average Precision Score: 0.97437 (0.00039)\n",
      "Decision Tree - Average Precision Score: 0.99608 (0.00039)\n"
     ]
    }
   ],
   "source": [
    "# Cross-Validation & model building\n",
    "for name, model in models.items():\n",
    "    n_scores = cross_val_score(model, X_train, y_train, \n",
    "                                cv=3, scoring='average_precision')\n",
    "    # report performance\n",
    "    print('{} - Average Precision Score: {:.5f} ({:.5f})' .format(name, np.mean(n_scores), \n",
    "                                                                  np.std(n_scores)))"
   ]
  },
  {
   "cell_type": "markdown",
   "id": "b1206567",
   "metadata": {},
   "source": [
    "**Takeaway**: Our two best models are k-NN and Decision Tree with both approximately 99.7% AUPRC."
   ]
  },
  {
   "cell_type": "markdown",
   "id": "1134cade",
   "metadata": {},
   "source": [
    "### 10. Machine Learning - Ensemble Methods"
   ]
  },
  {
   "cell_type": "markdown",
   "id": "0ffa6405",
   "metadata": {},
   "source": [
    "This section will extend our work in machine learning to incorporate ensemble methods. We generated simple models and compared the scores, which appear satisfactory, with the lowest at 0.974 for the Average Precision Score. However, we may want more stability and minor variation in our predictive algorithm; it is where ensemble techniques come in. Most often, they act as a 'superposer' of multiple models throughout various ways and thus, reinforce their predictive power. Further information [here](https://machinelearningmastery.com/tour-of-ensemble-learning-algorithms/)."
   ]
  },
  {
   "cell_type": "code",
   "execution_count": 39,
   "id": "776e905b",
   "metadata": {},
   "outputs": [],
   "source": [
    "# Dictionary to store ensemble model structures\n",
    "ensemble_models = dict()"
   ]
  },
  {
   "cell_type": "markdown",
   "id": "546bfa7d",
   "metadata": {},
   "source": [
    "**Definition**: Random Forest builds onto the logic of decision tree by agglomerating multiple trees and obtaining a given prediction from majority voting; in other words, it is a Decision Tree times n (number of trees). Further information [here](https://towardsdatascience.com/understanding-random-forest-58381e0602d2)."
   ]
  },
  {
   "cell_type": "code",
   "execution_count": 40,
   "id": "8458dd14",
   "metadata": {},
   "outputs": [],
   "source": [
    "## Random Forest\n",
    "rf_clf = RandomForestClassifier()\n",
    "ensemble_models.update({'Random Forest': rf_clf})"
   ]
  },
  {
   "cell_type": "markdown",
   "id": "abd946f5",
   "metadata": {},
   "source": [
    "**Definition**: Stochastic Gradient Boosting is part of the more sophisticated ensemble techniques (Boosting), learning from previous models' errors and building a sequential imporvement process. Further information. [here](https://towardsdatascience.com/understanding-random-forest-58381e0602d2)."
   ]
  },
  {
   "cell_type": "code",
   "execution_count": 41,
   "id": "3aa8f4bf",
   "metadata": {},
   "outputs": [],
   "source": [
    "## Stochastic Gradient Boosting\n",
    "boost_clf = GradientBoostingClassifier()\n",
    "ensemble_models.update({'Stochastic Gradient Boosting': boost_clf})"
   ]
  },
  {
   "cell_type": "markdown",
   "id": "7fa2e984",
   "metadata": {},
   "source": [
    "**Definition**: Stacking Classifier creates a meta-model based on individual models to improve performance, though not always so in ll cases. In our instance, we will use all simple models. Further information [here](https://machinelearningmastery.com/stacking-ensemble-machine-learning-with-python/)."
   ]
  },
  {
   "cell_type": "code",
   "execution_count": 44,
   "id": "3afc559a",
   "metadata": {},
   "outputs": [],
   "source": [
    "## Stacking Classifier\n",
    "estimators = [\n",
    "    ('logreg', LogisticRegression()),\n",
    "    ('knn', KNeighborsClassifier()),\n",
    "    ('sdg', SGDClassifier()),\n",
    "    \n",
    "]\n",
    "stack_clf = StackingClassifier(estimators = estimators,\n",
    "                               final_estimator = DecisionTreeClassifier())\n",
    "ensemble_models.update({'Stacking Classifier': stack_clf})"
   ]
  },
  {
   "cell_type": "code",
   "execution_count": 45,
   "id": "03c3e7ad",
   "metadata": {},
   "outputs": [
    {
     "data": {
      "text/plain": [
       "{'Random Forest': RandomForestClassifier(),\n",
       " 'Stochastic Gradient Boosting': GradientBoostingClassifier(),\n",
       " 'Stacking Classifier': StackingClassifier(estimators=[('logreg', LogisticRegression()),\n",
       "                                ('knn', KNeighborsClassifier()),\n",
       "                                ('sdg', SGDClassifier())],\n",
       "                    final_estimator=DecisionTreeClassifier())}"
      ]
     },
     "execution_count": 45,
     "metadata": {},
     "output_type": "execute_result"
    }
   ],
   "source": [
    "# Check dictionary of ensemble models\n",
    "ensemble_models"
   ]
  },
  {
   "cell_type": "code",
   "execution_count": 48,
   "id": "4ca013d5",
   "metadata": {},
   "outputs": [
    {
     "name": "stdout",
     "output_type": "stream",
     "text": [
      "Random Forest - Average Precision Score: 0.99608 (0.00039)\n",
      "Stochastic Gradient Boosting - Average Precision Score: 0.98906 (0.00072)\n",
      "Stacking Classifier - Average Precision Score: 0.94466 (0.01731)\n"
     ]
    }
   ],
   "source": [
    "# Cross-Validation and model building\n",
    "for name, model in ensemble_models.items():\n",
    "    n_scores = cross_val_score(model, X_train, y_train,\n",
    "                                cv=3, scoring='average_precision')\n",
    "    # report performance\n",
    "    print('{} - Average Precision Score: {:.5f} ({:.5f})' .format(name, np.mean(n_scores),\n",
    "                                                                        np.std(n_scores)))"
   ]
  },
  {
   "cell_type": "markdown",
   "id": "8fc6348c",
   "metadata": {},
   "source": [
    "**Takeaway**: Based on the numbers obtained, the Random Forest model was equal with the two best individual models, K-Nearest Neighbors and Decision Tree. The Stochastic Gradient Boosting outperformed Logistic Regression and Stochastic Gradient Descent. In contrast, the stacking model was worse than all of the above."
   ]
  },
  {
   "cell_type": "markdown",
   "id": "6ffcf079",
   "metadata": {},
   "source": [
    "### 11. Hyperparameter Tuning"
   ]
  },
  {
   "cell_type": "markdown",
   "id": "68a60698",
   "metadata": {},
   "source": [
    "This section will walk through a process to find the best possible models given a set of parameters. In machine learning, we name it hyperparameter tuning during which the algorithm search for the set of optimal hyperparameters driving the metric as high (or low, depending the case scenario) as possible."
   ]
  },
  {
   "cell_type": "code",
   "execution_count": 49,
   "id": "a5ca2129",
   "metadata": {},
   "outputs": [],
   "source": [
    "## Random Search\n",
    "\n",
    "# define search space\n",
    "knn_space = {\n",
    "    'weights': ['uniform', 'distance'],\n",
    "    'metric': ['euclidian', 'manhattan', 'minkowski']\n",
    "}\n",
    "\n",
    "tree_space = {\n",
    "    'criterion': ['gini', 'entropy'],\n",
    "    'splitter': ['best', 'random']\n",
    "}"
   ]
  },
  {
   "cell_type": "code",
   "execution_count": 51,
   "id": "463c2e40",
   "metadata": {},
   "outputs": [
    {
     "data": {
      "text/plain": [
       "{'k-Nearest Neighbors': [KNeighborsClassifier(n_neighbors=2),\n",
       "  {'weights': ['uniform', 'distance'],\n",
       "   'metric': ['euclidian', 'manhattan', 'minkowski']}],\n",
       " 'Decision Tree Classifier': [DecisionTreeClassifier(),\n",
       "  {'criterion': ['gini', 'entropy'], 'splitter': ['best', 'random']}]}"
      ]
     },
     "execution_count": 51,
     "metadata": {},
     "output_type": "execute_result"
    }
   ],
   "source": [
    "# The top 3 models\n",
    "top_models = {\n",
    "    'k-Nearest Neighbors': [knn, knn_space],\n",
    "    'Decision Tree Classifier': [tree, tree_space]\n",
    "}\n",
    "top_models"
   ]
  },
  {
   "cell_type": "markdown",
   "id": "a26b09ec",
   "metadata": {},
   "source": [
    "**Definition**: Grid Search will define its search space as a grid and evaluate every position inside the grid. Further information [here](https://machinelearningmastery.com/hyperparameter-optimization-with-random-search-and-grid-search/)."
   ]
  },
  {
   "cell_type": "code",
   "execution_count": 53,
   "id": "bd03e05f",
   "metadata": {},
   "outputs": [
    {
     "name": "stderr",
     "output_type": "stream",
     "text": [
      "C:\\Users\\hp\\anaconda3\\lib\\site-packages\\sklearn\\model_selection\\_validation.py:615: FitFailedWarning: Estimator fit failed. The score on this train-test partition for these parameters will be set to nan. Details: \n",
      "Traceback (most recent call last):\n",
      "  File \"C:\\Users\\hp\\anaconda3\\lib\\site-packages\\sklearn\\model_selection\\_validation.py\", line 598, in _fit_and_score\n",
      "    estimator.fit(X_train, y_train, **fit_params)\n",
      "  File \"C:\\Users\\hp\\anaconda3\\lib\\site-packages\\sklearn\\neighbors\\_classification.py\", line 179, in fit\n",
      "    return self._fit(X, y)\n",
      "  File \"C:\\Users\\hp\\anaconda3\\lib\\site-packages\\sklearn\\neighbors\\_base.py\", line 399, in _fit\n",
      "    self._check_algorithm_metric()\n",
      "  File \"C:\\Users\\hp\\anaconda3\\lib\\site-packages\\sklearn\\neighbors\\_base.py\", line 342, in _check_algorithm_metric\n",
      "    raise ValueError(\"Metric '%s' not valid. Use \"\n",
      "ValueError: Metric 'euclidian' not valid. Use sorted(sklearn.neighbors.VALID_METRICS['brute']) to get valid options. Metric can also be a callable function.\n",
      "\n",
      "  warnings.warn(\"Estimator fit failed. The score on this train-test\"\n",
      "C:\\Users\\hp\\anaconda3\\lib\\site-packages\\sklearn\\model_selection\\_validation.py:615: FitFailedWarning: Estimator fit failed. The score on this train-test partition for these parameters will be set to nan. Details: \n",
      "Traceback (most recent call last):\n",
      "  File \"C:\\Users\\hp\\anaconda3\\lib\\site-packages\\sklearn\\model_selection\\_validation.py\", line 598, in _fit_and_score\n",
      "    estimator.fit(X_train, y_train, **fit_params)\n",
      "  File \"C:\\Users\\hp\\anaconda3\\lib\\site-packages\\sklearn\\neighbors\\_classification.py\", line 179, in fit\n",
      "    return self._fit(X, y)\n",
      "  File \"C:\\Users\\hp\\anaconda3\\lib\\site-packages\\sklearn\\neighbors\\_base.py\", line 399, in _fit\n",
      "    self._check_algorithm_metric()\n",
      "  File \"C:\\Users\\hp\\anaconda3\\lib\\site-packages\\sklearn\\neighbors\\_base.py\", line 342, in _check_algorithm_metric\n",
      "    raise ValueError(\"Metric '%s' not valid. Use \"\n",
      "ValueError: Metric 'euclidian' not valid. Use sorted(sklearn.neighbors.VALID_METRICS['brute']) to get valid options. Metric can also be a callable function.\n",
      "\n",
      "  warnings.warn(\"Estimator fit failed. The score on this train-test\"\n",
      "C:\\Users\\hp\\anaconda3\\lib\\site-packages\\sklearn\\model_selection\\_validation.py:615: FitFailedWarning: Estimator fit failed. The score on this train-test partition for these parameters will be set to nan. Details: \n",
      "Traceback (most recent call last):\n",
      "  File \"C:\\Users\\hp\\anaconda3\\lib\\site-packages\\sklearn\\model_selection\\_validation.py\", line 598, in _fit_and_score\n",
      "    estimator.fit(X_train, y_train, **fit_params)\n",
      "  File \"C:\\Users\\hp\\anaconda3\\lib\\site-packages\\sklearn\\neighbors\\_classification.py\", line 179, in fit\n",
      "    return self._fit(X, y)\n",
      "  File \"C:\\Users\\hp\\anaconda3\\lib\\site-packages\\sklearn\\neighbors\\_base.py\", line 399, in _fit\n",
      "    self._check_algorithm_metric()\n",
      "  File \"C:\\Users\\hp\\anaconda3\\lib\\site-packages\\sklearn\\neighbors\\_base.py\", line 342, in _check_algorithm_metric\n",
      "    raise ValueError(\"Metric '%s' not valid. Use \"\n",
      "ValueError: Metric 'euclidian' not valid. Use sorted(sklearn.neighbors.VALID_METRICS['brute']) to get valid options. Metric can also be a callable function.\n",
      "\n",
      "  warnings.warn(\"Estimator fit failed. The score on this train-test\"\n",
      "C:\\Users\\hp\\anaconda3\\lib\\site-packages\\sklearn\\model_selection\\_validation.py:615: FitFailedWarning: Estimator fit failed. The score on this train-test partition for these parameters will be set to nan. Details: \n",
      "Traceback (most recent call last):\n",
      "  File \"C:\\Users\\hp\\anaconda3\\lib\\site-packages\\sklearn\\model_selection\\_validation.py\", line 598, in _fit_and_score\n",
      "    estimator.fit(X_train, y_train, **fit_params)\n",
      "  File \"C:\\Users\\hp\\anaconda3\\lib\\site-packages\\sklearn\\neighbors\\_classification.py\", line 179, in fit\n",
      "    return self._fit(X, y)\n",
      "  File \"C:\\Users\\hp\\anaconda3\\lib\\site-packages\\sklearn\\neighbors\\_base.py\", line 399, in _fit\n",
      "    self._check_algorithm_metric()\n",
      "  File \"C:\\Users\\hp\\anaconda3\\lib\\site-packages\\sklearn\\neighbors\\_base.py\", line 342, in _check_algorithm_metric\n",
      "    raise ValueError(\"Metric '%s' not valid. Use \"\n",
      "ValueError: Metric 'euclidian' not valid. Use sorted(sklearn.neighbors.VALID_METRICS['brute']) to get valid options. Metric can also be a callable function.\n",
      "\n",
      "  warnings.warn(\"Estimator fit failed. The score on this train-test\"\n",
      "C:\\Users\\hp\\anaconda3\\lib\\site-packages\\sklearn\\model_selection\\_search.py:922: UserWarning: One or more of the test scores are non-finite: [       nan        nan 0.99528586 0.99528586 0.99528586 0.99528586]\n",
      "  warnings.warn(\n"
     ]
    },
    {
     "name": "stdout",
     "output_type": "stream",
     "text": [
      "k-Nearest Neighbors - Average Precision Score: 0.99529\n",
      "with best parameters: {'metric': 'manhattan', 'weights': 'uniform'}.\n",
      "\n",
      "Decision Tree Classifier - Average Precision Score: 0.99529\n",
      "with best parameters: {'criterion': 'gini', 'splitter': 'best'}.\n",
      "\n"
     ]
    }
   ],
   "source": [
    "for name, specs in top_models.items():\n",
    "    model, space = specs[0], specs[1]\n",
    "    search = GridSearchCV(estimator=model, param_grid=space, \n",
    "                          cv=2, scoring='average_precision')\n",
    "    search.fit(X_train, y_train)\n",
    "    print('{} - Average Precision Score: {:.5f}' .format(name, search.best_score_))\n",
    "    print('with best parameters: {}.\\n' .format(search.best_params_))"
   ]
  },
  {
   "cell_type": "markdown",
   "id": "b67576c4",
   "metadata": {},
   "source": [
    "**Definition**: Random Search will define its search space as limited domain and randomly select sample points to test and do so recursively. Further information [here](https://machinelearningmastery.com/hyperparameter-optimization-with-random-search-and-grid-search/)."
   ]
  },
  {
   "cell_type": "code",
   "execution_count": 62,
   "id": "659193e6",
   "metadata": {},
   "outputs": [
    {
     "name": "stdout",
     "output_type": "stream",
     "text": [
      "k-Nearest Neighbors - Average Precision Score: 0.99529\n",
      "with best parameters: {'weights': 'uniform', 'metric': 'manhattan'}.\n",
      "\n",
      "Decision Tree Classifier - Average Precision Score: 0.99529\n",
      "with best parameters: {'splitter': 'best', 'criterion': 'entropy'}.\n",
      "\n"
     ]
    }
   ],
   "source": [
    "for name, specs in top_models.items():\n",
    "    model, space = specs[0], specs[1]\n",
    "    search = RandomizedSearchCV(estimator=model, param_distributions=space, \n",
    "                                cv=2, n_iter=2, scoring='average_precision')\n",
    "    search.fit(X_train, y_train)\n",
    "    print('{} - Average Precision Score: {:.5f}' .format(name, search.best_score_))\n",
    "    print('with best parameters: {}.\\n' .format(search.best_params_))"
   ]
  },
  {
   "cell_type": "markdown",
   "id": "c7a7260b",
   "metadata": {},
   "source": [
    "**Takeway**: Though both models produce quite similar AUPRC, we will opt for the Decision Tree Classifier having the highest value during the hyperparameter tuning."
   ]
  },
  {
   "cell_type": "markdown",
   "id": "6f9ae47f",
   "metadata": {},
   "source": [
    "### 12. Model Performance Evaluation"
   ]
  },
  {
   "cell_type": "markdown",
   "id": "127ab51e",
   "metadata": {},
   "source": [
    "This section will build on everything we've done throughout this notebook and evaluate the best model using AUPRC."
   ]
  },
  {
   "cell_type": "markdown",
   "id": "97f72d90",
   "metadata": {},
   "source": [
    "**Definition**: AUPRC (Area Under the Precision-Recall Curve) focuses on finding the positive examples; in other words, the fraudlent transactions in our case. Further information [here](https://glassboxmedicine.com/2019/03/02/measuring-performance-auprc/)."
   ]
  },
  {
   "cell_type": "code",
   "execution_count": 63,
   "id": "7e417b4a",
   "metadata": {},
   "outputs": [
    {
     "name": "stdout",
     "output_type": "stream",
     "text": [
      "Decision Tree Classifier - AUPRC: 0.99729\n"
     ]
    }
   ],
   "source": [
    "# Running on testing set\n",
    "tree = DecisionTreeClassifier(splitter='best', criterion='gini')\n",
    "tree.fit(X_train, y_train)\n",
    "y_pred = tree.predict(X_test)\n",
    "\n",
    "# report performance\n",
    "print('Decision Tree Classifier - AUPRC: {:.5F}' .format(skm.average_precision_score(y_test, y_pred)))"
   ]
  },
  {
   "cell_type": "markdown",
   "id": "5a15b740",
   "metadata": {},
   "source": [
    "**Conclusion**: Given its simple implementation and recurrent high performance, we will present the Decision Tree Classifier as our final model."
   ]
  }
 ],
 "metadata": {
  "kernelspec": {
   "display_name": "Python 3 (ipykernel)",
   "language": "python",
   "name": "python3"
  },
  "language_info": {
   "codemirror_mode": {
    "name": "ipython",
    "version": 3
   },
   "file_extension": ".py",
   "mimetype": "text/x-python",
   "name": "python",
   "nbconvert_exporter": "python",
   "pygments_lexer": "ipython3",
   "version": "3.9.7"
  }
 },
 "nbformat": 4,
 "nbformat_minor": 5
}
