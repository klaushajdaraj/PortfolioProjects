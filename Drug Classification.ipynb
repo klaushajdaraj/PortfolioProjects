{
 "cells": [
  {
   "cell_type": "markdown",
   "id": "0bb32a96",
   "metadata": {},
   "source": [
    "## Drug Classification"
   ]
  },
  {
   "cell_type": "markdown",
   "id": "c61ba6a2",
   "metadata": {},
   "source": [
    "### 1. Importing libraries"
   ]
  },
  {
   "cell_type": "code",
   "execution_count": 6,
   "id": "95b5af8e",
   "metadata": {},
   "outputs": [],
   "source": [
    "import pandas as pd\n",
    "import numpy as np\n",
    "import matplotlib.pyplot as plt\n",
    "import seaborn as sns\n",
    "from sklearn.linear_model import LogisticRegression\n",
    "from sklearn.tree import DecisionTreeClassifier\n",
    "from sklearn.ensemble import RandomForestClassifier\n",
    "from sklearn.metrics import accuracy_score, confusion_matrix\n",
    "from sklearn.model_selection import cross_val_score, KFold\n",
    "import sklearn.metrics as skm"
   ]
  },
  {
   "cell_type": "code",
   "execution_count": 7,
   "id": "11a46e60",
   "metadata": {},
   "outputs": [
    {
     "data": {
      "text/html": [
       "<div>\n",
       "<style scoped>\n",
       "    .dataframe tbody tr th:only-of-type {\n",
       "        vertical-align: middle;\n",
       "    }\n",
       "\n",
       "    .dataframe tbody tr th {\n",
       "        vertical-align: top;\n",
       "    }\n",
       "\n",
       "    .dataframe thead th {\n",
       "        text-align: right;\n",
       "    }\n",
       "</style>\n",
       "<table border=\"1\" class=\"dataframe\">\n",
       "  <thead>\n",
       "    <tr style=\"text-align: right;\">\n",
       "      <th></th>\n",
       "      <th>Age</th>\n",
       "      <th>Sex</th>\n",
       "      <th>BP</th>\n",
       "      <th>Cholesterol</th>\n",
       "      <th>Na_to_K</th>\n",
       "      <th>Drug</th>\n",
       "    </tr>\n",
       "  </thead>\n",
       "  <tbody>\n",
       "    <tr>\n",
       "      <th>0</th>\n",
       "      <td>23</td>\n",
       "      <td>F</td>\n",
       "      <td>HIGH</td>\n",
       "      <td>HIGH</td>\n",
       "      <td>25.355</td>\n",
       "      <td>DrugY</td>\n",
       "    </tr>\n",
       "    <tr>\n",
       "      <th>1</th>\n",
       "      <td>47</td>\n",
       "      <td>M</td>\n",
       "      <td>LOW</td>\n",
       "      <td>HIGH</td>\n",
       "      <td>13.093</td>\n",
       "      <td>drugC</td>\n",
       "    </tr>\n",
       "    <tr>\n",
       "      <th>2</th>\n",
       "      <td>47</td>\n",
       "      <td>M</td>\n",
       "      <td>LOW</td>\n",
       "      <td>HIGH</td>\n",
       "      <td>10.114</td>\n",
       "      <td>drugC</td>\n",
       "    </tr>\n",
       "    <tr>\n",
       "      <th>3</th>\n",
       "      <td>28</td>\n",
       "      <td>F</td>\n",
       "      <td>NORMAL</td>\n",
       "      <td>HIGH</td>\n",
       "      <td>7.798</td>\n",
       "      <td>drugX</td>\n",
       "    </tr>\n",
       "    <tr>\n",
       "      <th>4</th>\n",
       "      <td>61</td>\n",
       "      <td>F</td>\n",
       "      <td>LOW</td>\n",
       "      <td>HIGH</td>\n",
       "      <td>18.043</td>\n",
       "      <td>DrugY</td>\n",
       "    </tr>\n",
       "  </tbody>\n",
       "</table>\n",
       "</div>"
      ],
      "text/plain": [
       "   Age Sex      BP Cholesterol  Na_to_K   Drug\n",
       "0   23   F    HIGH        HIGH   25.355  DrugY\n",
       "1   47   M     LOW        HIGH   13.093  drugC\n",
       "2   47   M     LOW        HIGH   10.114  drugC\n",
       "3   28   F  NORMAL        HIGH    7.798  drugX\n",
       "4   61   F     LOW        HIGH   18.043  DrugY"
      ]
     },
     "execution_count": 7,
     "metadata": {},
     "output_type": "execute_result"
    }
   ],
   "source": [
    "# Import the dataset\n",
    "drug_df = pd.read_csv(r'C:\\Users\\hp\\Desktop\\drug200.csv')\n",
    "\n",
    "# First glimpse of data\n",
    "drug_df.head()"
   ]
  },
  {
   "cell_type": "code",
   "execution_count": 8,
   "id": "82a892de",
   "metadata": {},
   "outputs": [
    {
     "name": "stdout",
     "output_type": "stream",
     "text": [
      "<class 'pandas.core.frame.DataFrame'>\n",
      "RangeIndex: 200 entries, 0 to 199\n",
      "Data columns (total 6 columns):\n",
      " #   Column       Non-Null Count  Dtype  \n",
      "---  ------       --------------  -----  \n",
      " 0   Age          200 non-null    int64  \n",
      " 1   Sex          200 non-null    object \n",
      " 2   BP           200 non-null    object \n",
      " 3   Cholesterol  200 non-null    object \n",
      " 4   Na_to_K      200 non-null    float64\n",
      " 5   Drug         200 non-null    object \n",
      "dtypes: float64(1), int64(1), object(4)\n",
      "memory usage: 9.5+ KB\n"
     ]
    }
   ],
   "source": [
    "# General info about dataset\n",
    "drug_df.info()"
   ]
  },
  {
   "cell_type": "markdown",
   "id": "dfcb864a",
   "metadata": {},
   "source": [
    "- **Age**: Age of the patient\n",
    "- **Sex**: Gender of the patients\n",
    "- **BP**: Blood Pressure of the patient\n",
    "- **Cholesterol**: Cholesterol of the patient\n",
    "- **Na_to_K**: Sodium to Potasium ratio in patient's blood\n",
    "- **Drug**: Drug type given to patients"
   ]
  },
  {
   "cell_type": "markdown",
   "id": "c7d0cefb",
   "metadata": {},
   "source": [
    "### 2. Exploratory Data Analysis"
   ]
  },
  {
   "cell_type": "markdown",
   "id": "0177c198",
   "metadata": {},
   "source": [
    "#### Age"
   ]
  },
  {
   "cell_type": "code",
   "execution_count": 9,
   "id": "8474e335",
   "metadata": {},
   "outputs": [
    {
     "data": {
      "text/plain": [
       "<AxesSubplot:title={'center':'Age Distribution'}, ylabel='Density'>"
      ]
     },
     "execution_count": 9,
     "metadata": {},
     "output_type": "execute_result"
    },
    {
     "data": {
      "image/png": "[encoded data removed]",
      "text/plain": [
       "<Figure size 432x288 with 1 Axes>"
      ]
     },
     "metadata": {
      "needs_background": "light"
     },
     "output_type": "display_data"
    }
   ],
   "source": [
    "# Age distribution\n",
    "plt.title('Age Distribution')\n",
    "drug_df['Age'].plot(kind='kde')"
   ]
  },
  {
   "cell_type": "code",
   "execution_count": 10,
   "id": "f0ec903b",
   "metadata": {},
   "outputs": [
    {
     "name": "stdout",
     "output_type": "stream",
     "text": [
      "Average age is 44.315\n"
     ]
    }
   ],
   "source": [
    "print(f\"Average age is {drug_df['Age'].mean()}\")"
   ]
  },
  {
   "cell_type": "markdown",
   "id": "2c3503bc",
   "metadata": {},
   "source": [
    "#### Gender"
   ]
  },
  {
   "cell_type": "code",
   "execution_count": 11,
   "id": "f8e70ef3",
   "metadata": {},
   "outputs": [
    {
     "data": {
      "text/plain": [
       "<AxesSubplot:title={'center':'Gender Distribution'}, xlabel='Sex', ylabel='count'>"
      ]
     },
     "execution_count": 11,
     "metadata": {},
     "output_type": "execute_result"
    },
    {
     "data": {
      "image/png": "[encoded data removed]",
      "text/plain": [
       "<Figure size 432x288 with 1 Axes>"
      ]
     },
     "metadata": {
      "needs_background": "light"
     },
     "output_type": "display_data"
    }
   ],
   "source": [
    "plt.title('Gender Distribution')\n",
    "sns.set_style('darkgrid')\n",
    "sns.countplot(x=drug_df.Sex)"
   ]
  },
  {
   "cell_type": "markdown",
   "id": "eeb84272",
   "metadata": {},
   "source": [
    "**Takeaway**: We can see that there is almost an equal distribution of male and female."
   ]
  },
  {
   "cell_type": "markdown",
   "id": "cc84ca01",
   "metadata": {},
   "source": [
    "#### Drug"
   ]
  },
  {
   "cell_type": "code",
   "execution_count": 12,
   "id": "eb94bf10",
   "metadata": {},
   "outputs": [
    {
     "data": {
      "text/plain": [
       "DrugY    91\n",
       "drugX    54\n",
       "drugA    23\n",
       "drugC    16\n",
       "drugB    16\n",
       "Name: Drug, dtype: int64"
      ]
     },
     "execution_count": 12,
     "metadata": {},
     "output_type": "execute_result"
    }
   ],
   "source": [
    "drug_df['Drug'].value_counts()"
   ]
  },
  {
   "cell_type": "code",
   "execution_count": 13,
   "id": "353ac601",
   "metadata": {},
   "outputs": [
    {
     "data": {
      "image/png": "[encoded data removed]",
      "text/plain": [
       "<Figure size 1080x576 with 1 Axes>"
      ]
     },
     "metadata": {},
     "output_type": "display_data"
    }
   ],
   "source": [
    "plt.figure(figsize=(15, 8))\n",
    "plt.title('Drug types', fontsize=20, y=1.02)\n",
    "sns.countplot(x = drug_df.Drug, palette='hot')\n",
    "plt.show()"
   ]
  },
  {
   "cell_type": "markdown",
   "id": "7209b561",
   "metadata": {},
   "source": [
    "**Takeaway**: Drug Y is most commonly used and Drug C is least commonly used"
   ]
  },
  {
   "cell_type": "code",
   "execution_count": 14,
   "id": "df4bc2af",
   "metadata": {},
   "outputs": [
    {
     "data": {
      "text/plain": [
       "<AxesSubplot:xlabel='Drug', ylabel='Age'>"
      ]
     },
     "execution_count": 14,
     "metadata": {},
     "output_type": "execute_result"
    },
    {
     "data": {
      "image/png": "[encoded data removed]",
      "text/plain": [
       "<Figure size 432x288 with 1 Axes>"
      ]
     },
     "metadata": {},
     "output_type": "display_data"
    }
   ],
   "source": [
    "sns.scatterplot(x='Drug', y='Age', hue='Sex', data=drug_df)"
   ]
  },
  {
   "cell_type": "markdown",
   "id": "9ae14693",
   "metadata": {},
   "source": [
    "**Takeaway**: We find that Drug B is used by people over age 50 and drug A is used by people under 50"
   ]
  },
  {
   "cell_type": "markdown",
   "id": "8cf506c9",
   "metadata": {},
   "source": [
    "#### Blood Pressure"
   ]
  },
  {
   "cell_type": "code",
   "execution_count": 15,
   "id": "0f7f3bd4",
   "metadata": {},
   "outputs": [
    {
     "data": {
      "text/plain": [
       "<AxesSubplot:title={'center':'Blood Pressure'}, xlabel='BP', ylabel='count'>"
      ]
     },
     "execution_count": 15,
     "metadata": {},
     "output_type": "execute_result"
    },
    {
     "data": {
      "image/png": "[encoded data removed]",
      "text/plain": [
       "<Figure size 432x288 with 1 Axes>"
      ]
     },
     "metadata": {},
     "output_type": "display_data"
    }
   ],
   "source": [
    "plt.title('Blood Pressure')\n",
    "sns.countplot(x=drug_df.BP)"
   ]
  },
  {
   "cell_type": "code",
   "execution_count": 16,
   "id": "3f9656bd",
   "metadata": {},
   "outputs": [
    {
     "data": {
      "text/plain": [
       "<AxesSubplot:xlabel='Drug', ylabel='count'>"
      ]
     },
     "execution_count": 16,
     "metadata": {},
     "output_type": "execute_result"
    },
    {
     "data": {
      "image/png": "[encoded data removed]",
      "text/plain": [
       "<Figure size 432x288 with 1 Axes>"
      ]
     },
     "metadata": {},
     "output_type": "display_data"
    }
   ],
   "source": [
    "sns.countplot(x='Drug', hue='BP', data=drug_df)"
   ]
  },
  {
   "cell_type": "markdown",
   "id": "b379b6cf",
   "metadata": {},
   "source": [
    "**Takeaway**: Drug B is only used for people with high blood pressure. Drug C is used only for people with low blood pressure."
   ]
  },
  {
   "cell_type": "markdown",
   "id": "079538a9",
   "metadata": {},
   "source": [
    "#### Cholesterol"
   ]
  },
  {
   "cell_type": "code",
   "execution_count": 17,
   "id": "5c9cfcfd",
   "metadata": {},
   "outputs": [
    {
     "data": {
      "text/plain": [
       "<AxesSubplot:title={'center':'Cholesterol'}, xlabel='Cholesterol', ylabel='count'>"
      ]
     },
     "execution_count": 17,
     "metadata": {},
     "output_type": "execute_result"
    },
    {
     "data": {
      "image/png": "[encoded data removed]",
      "text/plain": [
       "<Figure size 432x288 with 1 Axes>"
      ]
     },
     "metadata": {},
     "output_type": "display_data"
    }
   ],
   "source": [
    "plt.title('Cholesterol')\n",
    "sns.countplot(x = drug_df.Cholesterol)"
   ]
  },
  {
   "cell_type": "code",
   "execution_count": 18,
   "id": "8ec5c7d5",
   "metadata": {},
   "outputs": [
    {
     "data": {
      "text/plain": [
       "<AxesSubplot:xlabel='Drug', ylabel='count'>"
      ]
     },
     "execution_count": 18,
     "metadata": {},
     "output_type": "execute_result"
    },
    {
     "data": {
      "image/png": "[encoded data removed]",
      "text/plain": [
       "<Figure size 432x288 with 1 Axes>"
      ]
     },
     "metadata": {},
     "output_type": "display_data"
    }
   ],
   "source": [
    "sns.countplot(x='Drug', hue='Cholesterol', data=drug_df)"
   ]
  },
  {
   "cell_type": "markdown",
   "id": "8671299a",
   "metadata": {},
   "source": [
    "**Takeaway**: Drug C is only used for people with high cholesterol. The rest of the drugs is used for both categories of the cholesterol level."
   ]
  },
  {
   "cell_type": "markdown",
   "id": "7b3cc793",
   "metadata": {},
   "source": [
    "#### Na_to_K"
   ]
  },
  {
   "cell_type": "code",
   "execution_count": 19,
   "id": "f954d9d6",
   "metadata": {},
   "outputs": [
    {
     "data": {
      "text/plain": [
       "<AxesSubplot:xlabel='Drug', ylabel='Na_to_K'>"
      ]
     },
     "execution_count": 19,
     "metadata": {},
     "output_type": "execute_result"
    },
    {
     "data": {
      "image/png": "[encoded data removed]",
      "text/plain": [
       "<Figure size 432x288 with 1 Axes>"
      ]
     },
     "metadata": {},
     "output_type": "display_data"
    }
   ],
   "source": [
    "sns.scatterplot(x='Drug', y='Na_to_K',hue='Sex',data=drug_df)"
   ]
  },
  {
   "cell_type": "markdown",
   "id": "debea2ba",
   "metadata": {},
   "source": [
    "**Takeaway**: Drug Y is used by people with Na_to_K greater than 15. The rest of the drugs is used by people with Na_to_K level below 15."
   ]
  },
  {
   "cell_type": "markdown",
   "id": "e22ad4a5",
   "metadata": {},
   "source": [
    "### 2. Data Preparation"
   ]
  },
  {
   "cell_type": "code",
   "execution_count": 21,
   "id": "2af368da",
   "metadata": {},
   "outputs": [],
   "source": [
    "X = drug_df.drop('Drug', axis=1)\n",
    "y = drug_df['Drug']"
   ]
  },
  {
   "cell_type": "code",
   "execution_count": 22,
   "id": "629c9140",
   "metadata": {},
   "outputs": [],
   "source": [
    "X = pd.get_dummies(X, ['Age', 'BP', 'Cholesterol'])\n",
    "y = pd.get_dummies(y, ['Drug'])"
   ]
  },
  {
   "cell_type": "code",
   "execution_count": 26,
   "id": "582e8643",
   "metadata": {},
   "outputs": [],
   "source": [
    "from sklearn.model_selection import train_test_split\n",
    "X_train, X_test, y_train, y_test = train_test_split(X, y, test_size=0.33, random_state=42)"
   ]
  },
  {
   "cell_type": "markdown",
   "id": "65dba3c8",
   "metadata": {},
   "source": [
    "### Random Forest Model"
   ]
  },
  {
   "cell_type": "code",
   "execution_count": 27,
   "id": "705f9d78",
   "metadata": {},
   "outputs": [
    {
     "data": {
      "text/plain": [
       "RandomForestClassifier(criterion='entropy', n_estimators=10, random_state=42)"
      ]
     },
     "execution_count": 27,
     "metadata": {},
     "output_type": "execute_result"
    }
   ],
   "source": [
    "from sklearn.ensemble import RandomForestClassifier\n",
    "rfc = RandomForestClassifier(n_estimators = 10, criterion = 'entropy', random_state = 42)\n",
    "rfc.fit(X_train, y_train)"
   ]
  },
  {
   "cell_type": "code",
   "execution_count": 28,
   "id": "b6cd824a",
   "metadata": {},
   "outputs": [],
   "source": [
    "y_pred = rfc.predict(X_test)"
   ]
  },
  {
   "cell_type": "code",
   "execution_count": 31,
   "id": "a0c38e5b",
   "metadata": {},
   "outputs": [
    {
     "name": "stdout",
     "output_type": "stream",
     "text": [
      "The Random Forest Model accuracy:  100.0 %\n"
     ]
    }
   ],
   "source": [
    "from sklearn.metrics import accuracy_score\n",
    "print('The Random Forest Model accuracy: ', accuracy_score(y_test, y_pred) * 100, '%')"
   ]
  },
  {
   "cell_type": "markdown",
   "id": "97341c34",
   "metadata": {},
   "source": [
    "###  Artificial Neural Network Model"
   ]
  },
  {
   "cell_type": "code",
   "execution_count": 37,
   "id": "c81cbc43",
   "metadata": {},
   "outputs": [],
   "source": [
    "import tensorflow as tf\n",
    "from tensorflow.keras.models import Sequential\n",
    "from tensorflow.keras.layers import Dense, Activation,Dropout ,Flatten\n",
    "from tensorflow.keras.layers.experimental.preprocessing import Normalization"
   ]
  },
  {
   "cell_type": "code",
   "execution_count": 38,
   "id": "45b066ef",
   "metadata": {},
   "outputs": [],
   "source": [
    "normalize = Normalization()"
   ]
  },
  {
   "cell_type": "code",
   "execution_count": 39,
   "id": "e231a93b",
   "metadata": {},
   "outputs": [],
   "source": [
    "model_2 = Sequential([\n",
    "    normalize,\n",
    "    Flatten(input_shape=(9,)),\n",
    "    Dense(32, activation='tanh'),\n",
    "    Dropout(0.5),\n",
    "    Dense(5, activation='sigmoid'),\n",
    "])\n",
    "\n",
    "model_2.compile(loss='categorical_crossentropy', optimizer='adam',metrics=['accuracy'])"
   ]
  },
  {
   "cell_type": "code",
   "execution_count": 41,
   "id": "095e3722",
   "metadata": {},
   "outputs": [],
   "source": [
    "from tensorflow.keras.callbacks import EarlyStopping\n",
    "early_stop = EarlyStopping(monitor='val_loss', mode='min', patience=10,restore_best_weights=True)"
   ]
  },
  {
   "cell_type": "code",
   "execution_count": 42,
   "id": "0c2066b3",
   "metadata": {},
   "outputs": [
    {
     "name": "stdout",
     "output_type": "stream",
     "text": [
      "Epoch 1/1000\n",
      "14/14 [==============================] - 1s 18ms/step - loss: 2.5778 - accuracy: 0.1940 - val_loss: 1.8317 - val_accuracy: 0.3939\n",
      "Epoch 2/1000\n",
      "14/14 [==============================] - 0s 5ms/step - loss: 2.1004 - accuracy: 0.2910 - val_loss: 1.6615 - val_accuracy: 0.4091\n",
      "Epoch 3/1000\n",
      "14/14 [==============================] - 0s 6ms/step - loss: 1.9377 - accuracy: 0.3582 - val_loss: 1.5569 - val_accuracy: 0.4242\n",
      "Epoch 4/1000\n",
      "14/14 [==============================] - 0s 7ms/step - loss: 2.0248 - accuracy: 0.3657 - val_loss: 1.4839 - val_accuracy: 0.4242\n",
      "Epoch 5/1000\n",
      "14/14 [==============================] - 0s 8ms/step - loss: 1.8035 - accuracy: 0.3507 - val_loss: 1.3997 - val_accuracy: 0.4394\n",
      "Epoch 6/1000\n",
      "14/14 [==============================] - 0s 5ms/step - loss: 1.7529 - accuracy: 0.3731 - val_loss: 1.3327 - val_accuracy: 0.4394\n",
      "Epoch 7/1000\n",
      "14/14 [==============================] - 0s 5ms/step - loss: 1.7928 - accuracy: 0.3955 - val_loss: 1.3160 - val_accuracy: 0.4394\n",
      "Epoch 8/1000\n",
      "14/14 [==============================] - 0s 5ms/step - loss: 1.7853 - accuracy: 0.4179 - val_loss: 1.2740 - val_accuracy: 0.4394\n",
      "Epoch 9/1000\n",
      "14/14 [==============================] - 0s 5ms/step - loss: 1.6770 - accuracy: 0.3881 - val_loss: 1.2025 - val_accuracy: 0.5303\n",
      "Epoch 10/1000\n",
      "14/14 [==============================] - 0s 5ms/step - loss: 1.5517 - accuracy: 0.4254 - val_loss: 1.1702 - val_accuracy: 0.5303\n",
      "Epoch 11/1000\n",
      "14/14 [==============================] - 0s 5ms/step - loss: 1.5208 - accuracy: 0.4030 - val_loss: 1.1571 - val_accuracy: 0.5303\n",
      "Epoch 12/1000\n",
      "14/14 [==============================] - 0s 5ms/step - loss: 1.5788 - accuracy: 0.4179 - val_loss: 1.1504 - val_accuracy: 0.5303\n",
      "Epoch 13/1000\n",
      "14/14 [==============================] - 0s 5ms/step - loss: 1.4778 - accuracy: 0.4403 - val_loss: 1.1474 - val_accuracy: 0.5303\n",
      "Epoch 14/1000\n",
      "14/14 [==============================] - 0s 5ms/step - loss: 1.5247 - accuracy: 0.4701 - val_loss: 1.1426 - val_accuracy: 0.5303\n",
      "Epoch 15/1000\n",
      "14/14 [==============================] - 0s 5ms/step - loss: 1.4012 - accuracy: 0.5299 - val_loss: 1.0853 - val_accuracy: 0.5606\n",
      "Epoch 16/1000\n",
      "14/14 [==============================] - 0s 5ms/step - loss: 1.4334 - accuracy: 0.4552 - val_loss: 1.0689 - val_accuracy: 0.5606\n",
      "Epoch 17/1000\n",
      "14/14 [==============================] - 0s 5ms/step - loss: 1.3815 - accuracy: 0.5000 - val_loss: 1.0600 - val_accuracy: 0.5758\n",
      "Epoch 18/1000\n",
      "14/14 [==============================] - 0s 7ms/step - loss: 1.4202 - accuracy: 0.5075 - val_loss: 1.0441 - val_accuracy: 0.5758\n",
      "Epoch 19/1000\n",
      "14/14 [==============================] - 0s 5ms/step - loss: 1.4018 - accuracy: 0.4925 - val_loss: 1.0531 - val_accuracy: 0.5606\n",
      "Epoch 20/1000\n",
      "14/14 [==============================] - 0s 5ms/step - loss: 1.2886 - accuracy: 0.5373 - val_loss: 1.0328 - val_accuracy: 0.5758\n",
      "Epoch 21/1000\n",
      "14/14 [==============================] - 0s 6ms/step - loss: 1.3864 - accuracy: 0.4179 - val_loss: 1.0185 - val_accuracy: 0.5758\n",
      "Epoch 22/1000\n",
      "14/14 [==============================] - 0s 6ms/step - loss: 1.3066 - accuracy: 0.5075 - val_loss: 1.0141 - val_accuracy: 0.5606\n",
      "Epoch 23/1000\n",
      "14/14 [==============================] - 0s 5ms/step - loss: 1.2658 - accuracy: 0.5373 - val_loss: 0.9918 - val_accuracy: 0.5758\n",
      "Epoch 24/1000\n",
      "14/14 [==============================] - 0s 5ms/step - loss: 1.2961 - accuracy: 0.5075 - val_loss: 0.9981 - val_accuracy: 0.5606\n",
      "Epoch 25/1000\n",
      "14/14 [==============================] - 0s 6ms/step - loss: 1.2385 - accuracy: 0.5597 - val_loss: 0.9876 - val_accuracy: 0.5758\n",
      "Epoch 26/1000\n",
      "14/14 [==============================] - 0s 7ms/step - loss: 1.2105 - accuracy: 0.5373 - val_loss: 0.9755 - val_accuracy: 0.5758\n",
      "Epoch 27/1000\n",
      "14/14 [==============================] - 0s 7ms/step - loss: 1.1994 - accuracy: 0.5821 - val_loss: 0.9934 - val_accuracy: 0.5606\n",
      "Epoch 28/1000\n",
      "14/14 [==============================] - 0s 6ms/step - loss: 1.1970 - accuracy: 0.5448 - val_loss: 0.9914 - val_accuracy: 0.5606\n",
      "Epoch 29/1000\n",
      "14/14 [==============================] - 0s 6ms/step - loss: 1.1606 - accuracy: 0.5597 - val_loss: 0.9342 - val_accuracy: 0.6364\n",
      "Epoch 30/1000\n",
      "14/14 [==============================] - 0s 6ms/step - loss: 1.1031 - accuracy: 0.5970 - val_loss: 0.9320 - val_accuracy: 0.5909\n",
      "Epoch 31/1000\n",
      "14/14 [==============================] - 0s 6ms/step - loss: 1.1314 - accuracy: 0.5970 - val_loss: 0.9639 - val_accuracy: 0.5606\n",
      "Epoch 32/1000\n",
      "14/14 [==============================] - 0s 5ms/step - loss: 1.1838 - accuracy: 0.5746 - val_loss: 0.9470 - val_accuracy: 0.5606\n",
      "Epoch 33/1000\n",
      "14/14 [==============================] - 0s 6ms/step - loss: 1.1033 - accuracy: 0.5896 - val_loss: 0.9090 - val_accuracy: 0.5909\n",
      "Epoch 34/1000\n",
      "14/14 [==============================] - 0s 5ms/step - loss: 1.0778 - accuracy: 0.5896 - val_loss: 0.9209 - val_accuracy: 0.5758\n",
      "Epoch 35/1000\n",
      "14/14 [==============================] - 0s 5ms/step - loss: 1.0412 - accuracy: 0.5821 - val_loss: 0.8959 - val_accuracy: 0.5758\n",
      "Epoch 36/1000\n",
      "14/14 [==============================] - 0s 5ms/step - loss: 1.1220 - accuracy: 0.5970 - val_loss: 0.9012 - val_accuracy: 0.5758\n",
      "Epoch 37/1000\n",
      "14/14 [==============================] - 0s 5ms/step - loss: 1.0541 - accuracy: 0.5448 - val_loss: 0.8639 - val_accuracy: 0.5758\n",
      "Epoch 38/1000\n",
      "14/14 [==============================] - 0s 5ms/step - loss: 1.0055 - accuracy: 0.6269 - val_loss: 0.8484 - val_accuracy: 0.5909\n",
      "Epoch 39/1000\n",
      "14/14 [==============================] - 0s 5ms/step - loss: 1.0420 - accuracy: 0.5970 - val_loss: 0.8002 - val_accuracy: 0.6515\n",
      "Epoch 40/1000\n",
      "14/14 [==============================] - 0s 5ms/step - loss: 0.9800 - accuracy: 0.6119 - val_loss: 0.7854 - val_accuracy: 0.6667\n",
      "Epoch 41/1000\n",
      "14/14 [==============================] - 0s 5ms/step - loss: 1.0064 - accuracy: 0.5970 - val_loss: 0.7831 - val_accuracy: 0.6515\n",
      "Epoch 42/1000\n",
      "14/14 [==============================] - 0s 5ms/step - loss: 0.9430 - accuracy: 0.6418 - val_loss: 0.7685 - val_accuracy: 0.6667\n",
      "Epoch 43/1000\n",
      "14/14 [==============================] - 0s 5ms/step - loss: 0.9793 - accuracy: 0.6194 - val_loss: 0.7940 - val_accuracy: 0.6061\n",
      "Epoch 44/1000\n",
      "14/14 [==============================] - 0s 6ms/step - loss: 0.9086 - accuracy: 0.6642 - val_loss: 0.7602 - val_accuracy: 0.6667\n",
      "Epoch 45/1000\n",
      "14/14 [==============================] - 0s 5ms/step - loss: 0.9297 - accuracy: 0.6343 - val_loss: 0.7655 - val_accuracy: 0.6364\n",
      "Epoch 46/1000\n",
      "14/14 [==============================] - 0s 9ms/step - loss: 0.9072 - accuracy: 0.6493 - val_loss: 0.7358 - val_accuracy: 0.6970\n",
      "Epoch 47/1000\n",
      "14/14 [==============================] - 0s 5ms/step - loss: 0.9304 - accuracy: 0.6269 - val_loss: 0.7192 - val_accuracy: 0.7121\n",
      "Epoch 48/1000\n",
      "14/14 [==============================] - 0s 5ms/step - loss: 0.9064 - accuracy: 0.6343 - val_loss: 0.7448 - val_accuracy: 0.6970\n",
      "Epoch 49/1000\n",
      "14/14 [==============================] - 0s 5ms/step - loss: 0.8274 - accuracy: 0.7164 - val_loss: 0.7143 - val_accuracy: 0.6818\n",
      "Epoch 50/1000\n",
      "14/14 [==============================] - 0s 5ms/step - loss: 0.8459 - accuracy: 0.6269 - val_loss: 0.7049 - val_accuracy: 0.6818\n",
      "Epoch 51/1000\n",
      "14/14 [==============================] - 0s 5ms/step - loss: 0.7796 - accuracy: 0.7090 - val_loss: 0.6864 - val_accuracy: 0.7424\n",
      "Epoch 52/1000\n",
      "14/14 [==============================] - 0s 5ms/step - loss: 0.8454 - accuracy: 0.6940 - val_loss: 0.6862 - val_accuracy: 0.7424\n",
      "Epoch 53/1000\n",
      "14/14 [==============================] - 0s 4ms/step - loss: 0.8529 - accuracy: 0.6418 - val_loss: 0.6705 - val_accuracy: 0.7576\n",
      "Epoch 54/1000\n",
      "14/14 [==============================] - 0s 4ms/step - loss: 0.7571 - accuracy: 0.7313 - val_loss: 0.6669 - val_accuracy: 0.7273\n",
      "Epoch 55/1000\n",
      "14/14 [==============================] - 0s 5ms/step - loss: 0.8340 - accuracy: 0.7090 - val_loss: 0.6496 - val_accuracy: 0.7576\n",
      "Epoch 56/1000\n",
      "14/14 [==============================] - 0s 5ms/step - loss: 0.7810 - accuracy: 0.6791 - val_loss: 0.6397 - val_accuracy: 0.7727\n",
      "Epoch 57/1000\n",
      "14/14 [==============================] - 0s 5ms/step - loss: 0.7857 - accuracy: 0.7239 - val_loss: 0.6206 - val_accuracy: 0.7576\n",
      "Epoch 58/1000\n"
     ]
    },
    {
     "name": "stdout",
     "output_type": "stream",
     "text": [
      "14/14 [==============================] - 0s 5ms/step - loss: 0.7250 - accuracy: 0.7537 - val_loss: 0.6432 - val_accuracy: 0.7576\n",
      "Epoch 59/1000\n",
      "14/14 [==============================] - 0s 5ms/step - loss: 0.7290 - accuracy: 0.7313 - val_loss: 0.6321 - val_accuracy: 0.7576\n",
      "Epoch 60/1000\n",
      "14/14 [==============================] - 0s 6ms/step - loss: 0.8386 - accuracy: 0.6567 - val_loss: 0.6012 - val_accuracy: 0.7727\n",
      "Epoch 61/1000\n",
      "14/14 [==============================] - 0s 5ms/step - loss: 0.7337 - accuracy: 0.7388 - val_loss: 0.6046 - val_accuracy: 0.7727\n",
      "Epoch 62/1000\n",
      "14/14 [==============================] - 0s 5ms/step - loss: 0.6580 - accuracy: 0.7463 - val_loss: 0.5912 - val_accuracy: 0.7576\n",
      "Epoch 63/1000\n",
      "14/14 [==============================] - 0s 5ms/step - loss: 0.7406 - accuracy: 0.7090 - val_loss: 0.5891 - val_accuracy: 0.7576\n",
      "Epoch 64/1000\n",
      "14/14 [==============================] - 0s 6ms/step - loss: 0.6750 - accuracy: 0.7463 - val_loss: 0.5677 - val_accuracy: 0.7576\n",
      "Epoch 65/1000\n",
      "14/14 [==============================] - 0s 5ms/step - loss: 0.6996 - accuracy: 0.7090 - val_loss: 0.5620 - val_accuracy: 0.7879\n",
      "Epoch 66/1000\n",
      "14/14 [==============================] - 0s 5ms/step - loss: 0.7651 - accuracy: 0.6940 - val_loss: 0.5610 - val_accuracy: 0.7727\n",
      "Epoch 67/1000\n",
      "14/14 [==============================] - 0s 5ms/step - loss: 0.6617 - accuracy: 0.7239 - val_loss: 0.5510 - val_accuracy: 0.7727\n",
      "Epoch 68/1000\n",
      "14/14 [==============================] - 0s 5ms/step - loss: 0.5937 - accuracy: 0.7910 - val_loss: 0.5478 - val_accuracy: 0.7879\n",
      "Epoch 69/1000\n",
      "14/14 [==============================] - 0s 6ms/step - loss: 0.7019 - accuracy: 0.7015 - val_loss: 0.5389 - val_accuracy: 0.7879\n",
      "Epoch 70/1000\n",
      "14/14 [==============================] - 0s 5ms/step - loss: 0.6950 - accuracy: 0.7537 - val_loss: 0.5384 - val_accuracy: 0.7576\n",
      "Epoch 71/1000\n",
      "14/14 [==============================] - 0s 6ms/step - loss: 0.7023 - accuracy: 0.7388 - val_loss: 0.5188 - val_accuracy: 0.7727\n",
      "Epoch 72/1000\n",
      "14/14 [==============================] - 0s 5ms/step - loss: 0.6435 - accuracy: 0.7836 - val_loss: 0.5432 - val_accuracy: 0.7879\n",
      "Epoch 73/1000\n",
      "14/14 [==============================] - 0s 6ms/step - loss: 0.6597 - accuracy: 0.7239 - val_loss: 0.5325 - val_accuracy: 0.7727\n",
      "Epoch 74/1000\n",
      "14/14 [==============================] - 0s 5ms/step - loss: 0.5635 - accuracy: 0.8060 - val_loss: 0.5056 - val_accuracy: 0.7727\n",
      "Epoch 75/1000\n",
      "14/14 [==============================] - 0s 5ms/step - loss: 0.5833 - accuracy: 0.8134 - val_loss: 0.4967 - val_accuracy: 0.7727\n",
      "Epoch 76/1000\n",
      "14/14 [==============================] - 0s 6ms/step - loss: 0.5807 - accuracy: 0.7910 - val_loss: 0.5019 - val_accuracy: 0.7727\n",
      "Epoch 77/1000\n",
      "14/14 [==============================] - 0s 5ms/step - loss: 0.5181 - accuracy: 0.8284 - val_loss: 0.4780 - val_accuracy: 0.7879\n",
      "Epoch 78/1000\n",
      "14/14 [==============================] - 0s 5ms/step - loss: 0.5780 - accuracy: 0.8060 - val_loss: 0.4952 - val_accuracy: 0.7879\n",
      "Epoch 79/1000\n",
      "14/14 [==============================] - 0s 5ms/step - loss: 0.5407 - accuracy: 0.8209 - val_loss: 0.4738 - val_accuracy: 0.7879\n",
      "Epoch 80/1000\n",
      "14/14 [==============================] - 0s 5ms/step - loss: 0.5945 - accuracy: 0.7910 - val_loss: 0.4601 - val_accuracy: 0.7727\n",
      "Epoch 81/1000\n",
      "14/14 [==============================] - 0s 5ms/step - loss: 0.5941 - accuracy: 0.8060 - val_loss: 0.4758 - val_accuracy: 0.7879\n",
      "Epoch 82/1000\n",
      "14/14 [==============================] - 0s 8ms/step - loss: 0.5421 - accuracy: 0.7910 - val_loss: 0.4627 - val_accuracy: 0.8182\n",
      "Epoch 83/1000\n",
      "14/14 [==============================] - 0s 7ms/step - loss: 0.5886 - accuracy: 0.7761 - val_loss: 0.4472 - val_accuracy: 0.8333\n",
      "Epoch 84/1000\n",
      "14/14 [==============================] - 0s 6ms/step - loss: 0.6116 - accuracy: 0.7388 - val_loss: 0.4579 - val_accuracy: 0.7727\n",
      "Epoch 85/1000\n",
      "14/14 [==============================] - 0s 7ms/step - loss: 0.5037 - accuracy: 0.8582 - val_loss: 0.4370 - val_accuracy: 0.8030\n",
      "Epoch 86/1000\n",
      "14/14 [==============================] - 0s 7ms/step - loss: 0.4851 - accuracy: 0.8731 - val_loss: 0.4447 - val_accuracy: 0.8182\n",
      "Epoch 87/1000\n",
      "14/14 [==============================] - 0s 6ms/step - loss: 0.5049 - accuracy: 0.8284 - val_loss: 0.4367 - val_accuracy: 0.8182\n",
      "Epoch 88/1000\n",
      "14/14 [==============================] - 0s 6ms/step - loss: 0.5013 - accuracy: 0.8209 - val_loss: 0.4249 - val_accuracy: 0.8182\n",
      "Epoch 89/1000\n",
      "14/14 [==============================] - 0s 6ms/step - loss: 0.5112 - accuracy: 0.8134 - val_loss: 0.4353 - val_accuracy: 0.8182\n",
      "Epoch 90/1000\n",
      "14/14 [==============================] - 0s 8ms/step - loss: 0.5601 - accuracy: 0.7612 - val_loss: 0.4140 - val_accuracy: 0.8485\n",
      "Epoch 91/1000\n",
      "14/14 [==============================] - 0s 6ms/step - loss: 0.4595 - accuracy: 0.8582 - val_loss: 0.4301 - val_accuracy: 0.8182\n",
      "Epoch 92/1000\n",
      "14/14 [==============================] - 0s 6ms/step - loss: 0.5185 - accuracy: 0.8134 - val_loss: 0.4036 - val_accuracy: 0.8333\n",
      "Epoch 93/1000\n",
      "14/14 [==============================] - 0s 7ms/step - loss: 0.5043 - accuracy: 0.8284 - val_loss: 0.4109 - val_accuracy: 0.8333\n",
      "Epoch 94/1000\n",
      "14/14 [==============================] - 0s 5ms/step - loss: 0.5007 - accuracy: 0.8433 - val_loss: 0.4003 - val_accuracy: 0.8182\n",
      "Epoch 95/1000\n",
      "14/14 [==============================] - 0s 6ms/step - loss: 0.5426 - accuracy: 0.8209 - val_loss: 0.3974 - val_accuracy: 0.8030\n",
      "Epoch 96/1000\n",
      "14/14 [==============================] - 0s 6ms/step - loss: 0.4436 - accuracy: 0.8657 - val_loss: 0.3901 - val_accuracy: 0.8333\n",
      "Epoch 97/1000\n",
      "14/14 [==============================] - 0s 6ms/step - loss: 0.4751 - accuracy: 0.8358 - val_loss: 0.3975 - val_accuracy: 0.8182\n",
      "Epoch 98/1000\n",
      "14/14 [==============================] - 0s 5ms/step - loss: 0.4377 - accuracy: 0.8731 - val_loss: 0.3893 - val_accuracy: 0.8333\n",
      "Epoch 99/1000\n",
      "14/14 [==============================] - 0s 6ms/step - loss: 0.5235 - accuracy: 0.7910 - val_loss: 0.3773 - val_accuracy: 0.8788\n",
      "Epoch 100/1000\n",
      "14/14 [==============================] - 0s 6ms/step - loss: 0.4969 - accuracy: 0.8284 - val_loss: 0.3730 - val_accuracy: 0.8636\n",
      "Epoch 101/1000\n",
      "14/14 [==============================] - 0s 6ms/step - loss: 0.4804 - accuracy: 0.8433 - val_loss: 0.3845 - val_accuracy: 0.8485\n",
      "Epoch 102/1000\n",
      "14/14 [==============================] - 0s 6ms/step - loss: 0.5300 - accuracy: 0.8060 - val_loss: 0.3641 - val_accuracy: 0.8485\n",
      "Epoch 103/1000\n",
      "14/14 [==============================] - 0s 6ms/step - loss: 0.4710 - accuracy: 0.8507 - val_loss: 0.3737 - val_accuracy: 0.8485\n",
      "Epoch 104/1000\n",
      "14/14 [==============================] - 0s 5ms/step - loss: 0.4258 - accuracy: 0.8507 - val_loss: 0.3521 - val_accuracy: 0.8939\n",
      "Epoch 105/1000\n",
      "14/14 [==============================] - 0s 4ms/step - loss: 0.4317 - accuracy: 0.8284 - val_loss: 0.3639 - val_accuracy: 0.8485\n",
      "Epoch 106/1000\n",
      "14/14 [==============================] - 0s 5ms/step - loss: 0.4302 - accuracy: 0.8507 - val_loss: 0.3595 - val_accuracy: 0.8636\n",
      "Epoch 107/1000\n",
      "14/14 [==============================] - 0s 5ms/step - loss: 0.4732 - accuracy: 0.8284 - val_loss: 0.3566 - val_accuracy: 0.8788\n",
      "Epoch 108/1000\n",
      "14/14 [==============================] - 0s 5ms/step - loss: 0.4402 - accuracy: 0.8582 - val_loss: 0.3562 - val_accuracy: 0.8788\n",
      "Epoch 109/1000\n",
      "14/14 [==============================] - 0s 6ms/step - loss: 0.4284 - accuracy: 0.8060 - val_loss: 0.3388 - val_accuracy: 0.8939\n",
      "Epoch 110/1000\n",
      "14/14 [==============================] - 0s 6ms/step - loss: 0.4339 - accuracy: 0.8433 - val_loss: 0.3413 - val_accuracy: 0.9091\n",
      "Epoch 111/1000\n",
      "14/14 [==============================] - 0s 6ms/step - loss: 0.4415 - accuracy: 0.8507 - val_loss: 0.3459 - val_accuracy: 0.9091\n",
      "Epoch 112/1000\n",
      "14/14 [==============================] - 0s 5ms/step - loss: 0.4295 - accuracy: 0.8358 - val_loss: 0.3258 - val_accuracy: 0.9242\n",
      "Epoch 113/1000\n",
      "14/14 [==============================] - 0s 5ms/step - loss: 0.4271 - accuracy: 0.8657 - val_loss: 0.3245 - val_accuracy: 0.9242\n",
      "Epoch 114/1000\n",
      "14/14 [==============================] - 0s 5ms/step - loss: 0.4383 - accuracy: 0.8657 - val_loss: 0.3349 - val_accuracy: 0.9091\n",
      "Epoch 115/1000\n"
     ]
    },
    {
     "name": "stdout",
     "output_type": "stream",
     "text": [
      "14/14 [==============================] - 0s 5ms/step - loss: 0.4205 - accuracy: 0.8433 - val_loss: 0.3239 - val_accuracy: 0.8636\n",
      "Epoch 116/1000\n",
      "14/14 [==============================] - 0s 5ms/step - loss: 0.4582 - accuracy: 0.8134 - val_loss: 0.3208 - val_accuracy: 0.9242\n",
      "Epoch 117/1000\n",
      "14/14 [==============================] - 0s 5ms/step - loss: 0.4130 - accuracy: 0.8731 - val_loss: 0.3116 - val_accuracy: 0.9242\n",
      "Epoch 118/1000\n",
      "14/14 [==============================] - 0s 5ms/step - loss: 0.4620 - accuracy: 0.8284 - val_loss: 0.3204 - val_accuracy: 0.9242\n",
      "Epoch 119/1000\n",
      "14/14 [==============================] - 0s 5ms/step - loss: 0.4384 - accuracy: 0.8284 - val_loss: 0.3199 - val_accuracy: 0.8788\n",
      "Epoch 120/1000\n",
      "14/14 [==============================] - 0s 5ms/step - loss: 0.3775 - accuracy: 0.8657 - val_loss: 0.3095 - val_accuracy: 0.9242\n",
      "Epoch 121/1000\n",
      "14/14 [==============================] - 0s 5ms/step - loss: 0.3860 - accuracy: 0.8806 - val_loss: 0.3034 - val_accuracy: 0.9242\n",
      "Epoch 122/1000\n",
      "14/14 [==============================] - 0s 5ms/step - loss: 0.4164 - accuracy: 0.8358 - val_loss: 0.3091 - val_accuracy: 0.9242\n",
      "Epoch 123/1000\n",
      "14/14 [==============================] - 0s 5ms/step - loss: 0.3794 - accuracy: 0.8881 - val_loss: 0.3123 - val_accuracy: 0.9242\n",
      "Epoch 124/1000\n",
      "14/14 [==============================] - 0s 5ms/step - loss: 0.4287 - accuracy: 0.8507 - val_loss: 0.2815 - val_accuracy: 0.9242\n",
      "Epoch 125/1000\n",
      "14/14 [==============================] - 0s 5ms/step - loss: 0.3878 - accuracy: 0.8507 - val_loss: 0.3023 - val_accuracy: 0.9242\n",
      "Epoch 126/1000\n",
      "14/14 [==============================] - 0s 5ms/step - loss: 0.4016 - accuracy: 0.8731 - val_loss: 0.2817 - val_accuracy: 0.9242\n",
      "Epoch 127/1000\n",
      "14/14 [==============================] - 0s 5ms/step - loss: 0.3870 - accuracy: 0.8806 - val_loss: 0.2795 - val_accuracy: 0.9242\n",
      "Epoch 128/1000\n",
      "14/14 [==============================] - 0s 5ms/step - loss: 0.4054 - accuracy: 0.8507 - val_loss: 0.3029 - val_accuracy: 0.9091\n",
      "Epoch 129/1000\n",
      "14/14 [==============================] - 0s 5ms/step - loss: 0.3996 - accuracy: 0.8358 - val_loss: 0.2700 - val_accuracy: 0.9242\n",
      "Epoch 130/1000\n",
      "14/14 [==============================] - 0s 5ms/step - loss: 0.3389 - accuracy: 0.8731 - val_loss: 0.2684 - val_accuracy: 0.9242\n",
      "Epoch 131/1000\n",
      "14/14 [==============================] - 0s 5ms/step - loss: 0.3470 - accuracy: 0.8806 - val_loss: 0.2823 - val_accuracy: 0.9242\n",
      "Epoch 132/1000\n",
      "14/14 [==============================] - 0s 4ms/step - loss: 0.3784 - accuracy: 0.9030 - val_loss: 0.2779 - val_accuracy: 0.9091\n",
      "Epoch 133/1000\n",
      "14/14 [==============================] - 0s 5ms/step - loss: 0.3905 - accuracy: 0.8657 - val_loss: 0.2751 - val_accuracy: 0.9091\n",
      "Epoch 134/1000\n",
      "14/14 [==============================] - 0s 5ms/step - loss: 0.3989 - accuracy: 0.8582 - val_loss: 0.2778 - val_accuracy: 0.9242\n",
      "Epoch 135/1000\n",
      "14/14 [==============================] - 0s 5ms/step - loss: 0.3319 - accuracy: 0.9104 - val_loss: 0.2743 - val_accuracy: 0.9242\n",
      "Epoch 136/1000\n",
      "14/14 [==============================] - 0s 5ms/step - loss: 0.3352 - accuracy: 0.9179 - val_loss: 0.2601 - val_accuracy: 0.9242\n",
      "Epoch 137/1000\n",
      "14/14 [==============================] - 0s 5ms/step - loss: 0.3572 - accuracy: 0.8657 - val_loss: 0.2583 - val_accuracy: 0.9242\n",
      "Epoch 138/1000\n",
      "14/14 [==============================] - 0s 5ms/step - loss: 0.3349 - accuracy: 0.9254 - val_loss: 0.2631 - val_accuracy: 0.9242\n",
      "Epoch 139/1000\n",
      "14/14 [==============================] - 0s 5ms/step - loss: 0.3877 - accuracy: 0.8657 - val_loss: 0.2614 - val_accuracy: 0.9242\n",
      "Epoch 140/1000\n",
      "14/14 [==============================] - 0s 5ms/step - loss: 0.3366 - accuracy: 0.8881 - val_loss: 0.2625 - val_accuracy: 0.9242\n",
      "Epoch 141/1000\n",
      "14/14 [==============================] - 0s 5ms/step - loss: 0.3375 - accuracy: 0.8955 - val_loss: 0.2571 - val_accuracy: 0.9242\n",
      "Epoch 142/1000\n",
      "14/14 [==============================] - 0s 5ms/step - loss: 0.3704 - accuracy: 0.8657 - val_loss: 0.2539 - val_accuracy: 0.9242\n",
      "Epoch 143/1000\n",
      "14/14 [==============================] - 0s 5ms/step - loss: 0.3219 - accuracy: 0.8881 - val_loss: 0.2534 - val_accuracy: 0.9242\n",
      "Epoch 144/1000\n",
      "14/14 [==============================] - 0s 5ms/step - loss: 0.3775 - accuracy: 0.8806 - val_loss: 0.2404 - val_accuracy: 0.9242\n",
      "Epoch 145/1000\n",
      "14/14 [==============================] - 0s 5ms/step - loss: 0.3294 - accuracy: 0.9179 - val_loss: 0.2383 - val_accuracy: 0.9242\n",
      "Epoch 146/1000\n",
      "14/14 [==============================] - 0s 5ms/step - loss: 0.2984 - accuracy: 0.9328 - val_loss: 0.2426 - val_accuracy: 0.9242\n",
      "Epoch 147/1000\n",
      "14/14 [==============================] - 0s 6ms/step - loss: 0.3615 - accuracy: 0.8657 - val_loss: 0.2403 - val_accuracy: 0.9242\n",
      "Epoch 148/1000\n",
      "14/14 [==============================] - 0s 6ms/step - loss: 0.3096 - accuracy: 0.9030 - val_loss: 0.2324 - val_accuracy: 0.9242\n",
      "Epoch 149/1000\n",
      "14/14 [==============================] - 0s 5ms/step - loss: 0.3538 - accuracy: 0.8657 - val_loss: 0.2336 - val_accuracy: 0.9242\n",
      "Epoch 150/1000\n",
      "14/14 [==============================] - 0s 6ms/step - loss: 0.3221 - accuracy: 0.8881 - val_loss: 0.2371 - val_accuracy: 0.9394\n",
      "Epoch 151/1000\n",
      "14/14 [==============================] - 0s 6ms/step - loss: 0.3235 - accuracy: 0.9030 - val_loss: 0.2436 - val_accuracy: 0.9091\n",
      "Epoch 152/1000\n",
      "14/14 [==============================] - 0s 5ms/step - loss: 0.3251 - accuracy: 0.8881 - val_loss: 0.2384 - val_accuracy: 0.9242\n",
      "Epoch 153/1000\n",
      "14/14 [==============================] - 0s 5ms/step - loss: 0.3219 - accuracy: 0.8806 - val_loss: 0.2234 - val_accuracy: 0.9242\n",
      "Epoch 154/1000\n",
      "14/14 [==============================] - 0s 6ms/step - loss: 0.2959 - accuracy: 0.9179 - val_loss: 0.2346 - val_accuracy: 0.9394\n",
      "Epoch 155/1000\n",
      "14/14 [==============================] - 0s 6ms/step - loss: 0.3400 - accuracy: 0.8881 - val_loss: 0.2318 - val_accuracy: 0.9242\n",
      "Epoch 156/1000\n",
      "14/14 [==============================] - 0s 6ms/step - loss: 0.2825 - accuracy: 0.8881 - val_loss: 0.2297 - val_accuracy: 0.9242\n",
      "Epoch 157/1000\n",
      "14/14 [==============================] - 0s 5ms/step - loss: 0.3058 - accuracy: 0.9030 - val_loss: 0.2202 - val_accuracy: 0.9242\n",
      "Epoch 158/1000\n",
      "14/14 [==============================] - 0s 5ms/step - loss: 0.3150 - accuracy: 0.8881 - val_loss: 0.2328 - val_accuracy: 0.9242\n",
      "Epoch 159/1000\n",
      "14/14 [==============================] - 0s 5ms/step - loss: 0.3171 - accuracy: 0.8881 - val_loss: 0.2226 - val_accuracy: 0.9242\n",
      "Epoch 160/1000\n",
      "14/14 [==============================] - 0s 5ms/step - loss: 0.2867 - accuracy: 0.9030 - val_loss: 0.2333 - val_accuracy: 0.9242\n",
      "Epoch 161/1000\n",
      "14/14 [==============================] - 0s 5ms/step - loss: 0.2891 - accuracy: 0.8955 - val_loss: 0.2373 - val_accuracy: 0.9091\n",
      "Epoch 162/1000\n",
      "14/14 [==============================] - 0s 5ms/step - loss: 0.3096 - accuracy: 0.8881 - val_loss: 0.2145 - val_accuracy: 0.9242\n",
      "Epoch 163/1000\n",
      "14/14 [==============================] - 0s 5ms/step - loss: 0.2704 - accuracy: 0.9403 - val_loss: 0.2018 - val_accuracy: 0.9242\n",
      "Epoch 164/1000\n",
      "14/14 [==============================] - 0s 5ms/step - loss: 0.3270 - accuracy: 0.8657 - val_loss: 0.2156 - val_accuracy: 0.9394\n",
      "Epoch 165/1000\n",
      "14/14 [==============================] - 0s 5ms/step - loss: 0.3000 - accuracy: 0.8955 - val_loss: 0.2222 - val_accuracy: 0.9242\n",
      "Epoch 166/1000\n",
      "14/14 [==============================] - 0s 5ms/step - loss: 0.2631 - accuracy: 0.9104 - val_loss: 0.2115 - val_accuracy: 0.9545\n",
      "Epoch 167/1000\n",
      "14/14 [==============================] - 0s 5ms/step - loss: 0.3316 - accuracy: 0.8806 - val_loss: 0.2041 - val_accuracy: 0.9242\n",
      "Epoch 168/1000\n",
      "14/14 [==============================] - 0s 5ms/step - loss: 0.2661 - accuracy: 0.9179 - val_loss: 0.2109 - val_accuracy: 0.9394\n",
      "Epoch 169/1000\n",
      "14/14 [==============================] - 0s 5ms/step - loss: 0.2931 - accuracy: 0.8955 - val_loss: 0.2123 - val_accuracy: 0.9394\n",
      "Epoch 170/1000\n",
      "14/14 [==============================] - 0s 5ms/step - loss: 0.2889 - accuracy: 0.9104 - val_loss: 0.2084 - val_accuracy: 0.9394\n",
      "Epoch 171/1000\n",
      "14/14 [==============================] - 0s 5ms/step - loss: 0.2789 - accuracy: 0.9030 - val_loss: 0.2078 - val_accuracy: 0.9545\n"
     ]
    },
    {
     "name": "stdout",
     "output_type": "stream",
     "text": [
      "Epoch 172/1000\n",
      "14/14 [==============================] - 0s 5ms/step - loss: 0.2698 - accuracy: 0.9179 - val_loss: 0.2005 - val_accuracy: 0.9394\n",
      "Epoch 173/1000\n",
      "14/14 [==============================] - 0s 5ms/step - loss: 0.2989 - accuracy: 0.8881 - val_loss: 0.2077 - val_accuracy: 0.9242\n",
      "Epoch 174/1000\n",
      "14/14 [==============================] - 0s 5ms/step - loss: 0.3089 - accuracy: 0.9030 - val_loss: 0.1939 - val_accuracy: 0.9394\n",
      "Epoch 175/1000\n",
      "14/14 [==============================] - 0s 5ms/step - loss: 0.2684 - accuracy: 0.9254 - val_loss: 0.1898 - val_accuracy: 0.9394\n",
      "Epoch 176/1000\n",
      "14/14 [==============================] - 0s 5ms/step - loss: 0.3094 - accuracy: 0.8881 - val_loss: 0.2010 - val_accuracy: 0.9394\n",
      "Epoch 177/1000\n",
      "14/14 [==============================] - 0s 4ms/step - loss: 0.2863 - accuracy: 0.9104 - val_loss: 0.1944 - val_accuracy: 0.9545\n",
      "Epoch 178/1000\n",
      "14/14 [==============================] - 0s 4ms/step - loss: 0.3084 - accuracy: 0.8731 - val_loss: 0.1864 - val_accuracy: 0.9394\n",
      "Epoch 179/1000\n",
      "14/14 [==============================] - 0s 5ms/step - loss: 0.2515 - accuracy: 0.9328 - val_loss: 0.1801 - val_accuracy: 0.9545\n",
      "Epoch 180/1000\n",
      "14/14 [==============================] - 0s 5ms/step - loss: 0.2471 - accuracy: 0.9328 - val_loss: 0.1893 - val_accuracy: 0.9545\n",
      "Epoch 181/1000\n",
      "14/14 [==============================] - 0s 5ms/step - loss: 0.3117 - accuracy: 0.8955 - val_loss: 0.1760 - val_accuracy: 0.9545\n",
      "Epoch 182/1000\n",
      "14/14 [==============================] - 0s 5ms/step - loss: 0.2755 - accuracy: 0.9328 - val_loss: 0.1801 - val_accuracy: 0.9545\n",
      "Epoch 183/1000\n",
      "14/14 [==============================] - 0s 5ms/step - loss: 0.2198 - accuracy: 0.9478 - val_loss: 0.1912 - val_accuracy: 0.9545\n",
      "Epoch 184/1000\n",
      "14/14 [==============================] - 0s 5ms/step - loss: 0.2788 - accuracy: 0.9179 - val_loss: 0.1936 - val_accuracy: 0.9545\n",
      "Epoch 185/1000\n",
      "14/14 [==============================] - 0s 5ms/step - loss: 0.2169 - accuracy: 0.9627 - val_loss: 0.1876 - val_accuracy: 0.9545\n",
      "Epoch 186/1000\n",
      "14/14 [==============================] - 0s 5ms/step - loss: 0.2345 - accuracy: 0.9552 - val_loss: 0.1867 - val_accuracy: 0.9394\n",
      "Epoch 187/1000\n",
      "14/14 [==============================] - 0s 4ms/step - loss: 0.2758 - accuracy: 0.9254 - val_loss: 0.1787 - val_accuracy: 0.9394\n",
      "Epoch 188/1000\n",
      "14/14 [==============================] - 0s 5ms/step - loss: 0.2615 - accuracy: 0.9254 - val_loss: 0.1670 - val_accuracy: 0.9545\n",
      "Epoch 189/1000\n",
      "14/14 [==============================] - 0s 5ms/step - loss: 0.2885 - accuracy: 0.8806 - val_loss: 0.1933 - val_accuracy: 0.9394\n",
      "Epoch 190/1000\n",
      "14/14 [==============================] - 0s 5ms/step - loss: 0.2359 - accuracy: 0.9179 - val_loss: 0.1693 - val_accuracy: 0.9545\n",
      "Epoch 191/1000\n",
      "14/14 [==============================] - 0s 5ms/step - loss: 0.2449 - accuracy: 0.9328 - val_loss: 0.1783 - val_accuracy: 0.9394\n",
      "Epoch 192/1000\n",
      "14/14 [==============================] - 0s 5ms/step - loss: 0.2774 - accuracy: 0.9104 - val_loss: 0.1879 - val_accuracy: 0.9394\n",
      "Epoch 193/1000\n",
      "14/14 [==============================] - 0s 4ms/step - loss: 0.2550 - accuracy: 0.9403 - val_loss: 0.1803 - val_accuracy: 0.9394\n",
      "Epoch 194/1000\n",
      "14/14 [==============================] - 0s 5ms/step - loss: 0.2113 - accuracy: 0.9552 - val_loss: 0.1933 - val_accuracy: 0.9394\n",
      "Epoch 195/1000\n",
      "14/14 [==============================] - 0s 5ms/step - loss: 0.2422 - accuracy: 0.9552 - val_loss: 0.1853 - val_accuracy: 0.9545\n",
      "Epoch 196/1000\n",
      "14/14 [==============================] - 0s 5ms/step - loss: 0.2765 - accuracy: 0.8955 - val_loss: 0.1858 - val_accuracy: 0.9394\n",
      "Epoch 197/1000\n",
      "14/14 [==============================] - 0s 5ms/step - loss: 0.2766 - accuracy: 0.8955 - val_loss: 0.1808 - val_accuracy: 0.9394\n",
      "Epoch 198/1000\n",
      "14/14 [==============================] - 0s 5ms/step - loss: 0.2585 - accuracy: 0.9328 - val_loss: 0.1783 - val_accuracy: 0.9394\n"
     ]
    },
    {
     "data": {
      "text/plain": [
       "<keras.callbacks.History at 0x275524c2400>"
      ]
     },
     "execution_count": 42,
     "metadata": {},
     "output_type": "execute_result"
    }
   ],
   "source": [
    "model_2.fit(x=X_train, \n",
    "          y=y_train, \n",
    "          epochs=1000,\n",
    "          batch_size=10,\n",
    "          validation_data=(X_test, y_test),\n",
    "           callbacks=[early_stop]\n",
    "          )"
   ]
  },
  {
   "cell_type": "code",
   "execution_count": 43,
   "id": "214fa389",
   "metadata": {},
   "outputs": [
    {
     "name": "stdout",
     "output_type": "stream",
     "text": [
      "3/3 [==============================] - 0s 4ms/step - loss: 0.1670 - accuracy: 0.9545\n"
     ]
    },
    {
     "data": {
      "text/plain": [
       "[0.16703839600086212, 0.9545454382896423]"
      ]
     },
     "execution_count": 43,
     "metadata": {},
     "output_type": "execute_result"
    }
   ],
   "source": [
    "model_2.evaluate(X_test, y_test)"
   ]
  }
 ],
 "metadata": {
  "kernelspec": {
   "display_name": "Python 3 (ipykernel)",
   "language": "python",
   "name": "python3"
  },
  "language_info": {
   "codemirror_mode": {
    "name": "ipython",
    "version": 3
   },
   "file_extension": ".py",
   "mimetype": "text/x-python",
   "name": "python",
   "nbconvert_exporter": "python",
   "pygments_lexer": "ipython3",
   "version": "3.9.7"
  }
 },
 "nbformat": 4,
 "nbformat_minor": 5
}
